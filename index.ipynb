{
 "cells": [
  {
   "cell_type": "markdown",
   "metadata": {},
   "source": [
    "# Nearest Neighbors Lab"
   ]
  },
  {
   "cell_type": "markdown",
   "metadata": {},
   "source": [
    "### Introduction\n",
    "\n",
    "In this lab, you apply nearest neighbors technique to help a taxi company predict the length of their rides.  Imagine that we are hired to consult for LiftOff, a limo and taxi service that is just opening up in NYC.  Liftoff wants it's taxi drivers to target longer rides, as the longer the ride the more money it makes.  LiftOff has the following theory:\n",
    "\n",
    "* the pickup location of a taxi ride can help predict the length of the ride.  \n",
    "\n",
    "\n",
    "\n",
    "LiftOff asks us to do some analysis to write a function that will allow it to **predict the length of a taxi ride for any given location **.\n",
    "\n",
    "Our technique will be the following:\n",
    "  * **Collect** Obtain the data containing all of the taxi information, and only select the attributes of taxi trips that we need \n",
    "  * ** Explore ** Examine the attributes of our data, and plot some of our data on a map\n",
    "  * ** Train ** Write our nearest neighbors formula, and change the number of nearby trips to predict the length of a new trip\n",
    "  * ** Predict ** Use our function to predict trip lengths of new locations"
   ]
  },
  {
   "cell_type": "markdown",
   "metadata": {},
   "source": [
    "### Collect and Explore the data"
   ]
  },
  {
   "cell_type": "markdown",
   "metadata": {},
   "source": [
    "#### Collect the Data"
   ]
  },
  {
   "cell_type": "markdown",
   "metadata": {},
   "source": [
    "Luckily for us, [NYC Open Data](https://opendata.cityofnewyork.us/) collects information about NYC taxi trips and provides this data on [its website](https://data.cityofnewyork.us/Transportation/2014-Yellow-Taxi-Trip-Data/gn7m-em8n)."
   ]
  },
  {
   "cell_type": "markdown",
   "metadata": {},
   "source": [
    "![](./nyc-taxi.png)"
   ]
  },
  {
   "cell_type": "markdown",
   "metadata": {},
   "source": [
    "For your reading pleasure, the data has already been downloaded into the [trips.json](https://github.com/learn-co-curriculum/nearest-neighbors-lab/blob/master/trips.json) file in this lab which you can find here.  We'll use Python's `json` library to take the data from the `trips.json` file and store it as a variable in our notebook."
   ]
  },
  {
   "cell_type": "code",
   "execution_count": 1,
   "metadata": {},
   "outputs": [],
   "source": [
    "import json\n",
    "# First, read the file\n",
    "trips_file = open('trips.json')\n",
    "# Then, convert contents to list of dictionaries \n",
    "trips = json.load(trips_file)"
   ]
  },
  {
   "cell_type": "markdown",
   "metadata": {},
   "source": [
    "> Press shift + enter"
   ]
  },
  {
   "cell_type": "markdown",
   "metadata": {},
   "source": [
    "#### Explore the data"
   ]
  },
  {
   "cell_type": "markdown",
   "metadata": {},
   "source": [
    "The next step is to explore the data.  First, let's see how many trips we have."
   ]
  },
  {
   "cell_type": "code",
   "execution_count": 2,
   "metadata": {},
   "outputs": [
    {
     "data": {
      "text/plain": [
       "1000"
      ]
     },
     "execution_count": 2,
     "metadata": {},
     "output_type": "execute_result"
    }
   ],
   "source": [
    "len(trips)"
   ]
  },
  {
   "cell_type": "markdown",
   "metadata": {},
   "source": [
    "Not bad at all.  Now let's see what each individual trip looks like.  Each trip is a dictionary, so we can see the attributes of each trip with the `keys` function."
   ]
  },
  {
   "cell_type": "code",
   "execution_count": 3,
   "metadata": {
    "scrolled": true
   },
   "outputs": [
    {
     "data": {
      "text/plain": [
       "dict_keys(['dropoff_datetime', 'dropoff_latitude', 'dropoff_longitude', 'fare_amount', 'imp_surcharge', 'mta_tax', 'passenger_count', 'payment_type', 'pickup_datetime', 'pickup_latitude', 'pickup_longitude', 'rate_code', 'tip_amount', 'tolls_amount', 'total_amount', 'trip_distance', 'vendor_id'])"
      ]
     },
     "execution_count": 3,
     "metadata": {},
     "output_type": "execute_result"
    }
   ],
   "source": [
    "trips[0].keys()"
   ]
  },
  {
   "cell_type": "markdown",
   "metadata": {},
   "source": [
    "#### Limit our data"
   ]
  },
  {
   "cell_type": "markdown",
   "metadata": {},
   "source": [
    "Ok, now that we have explored some of our data, let's begin to think through what data is relevant for our task."
   ]
  },
  {
   "cell_type": "markdown",
   "metadata": {
    "collapsed": true
   },
   "source": [
    "Remember that our task is to **use the trip location to predict the length of a trip**.  So let's select the `pickup_latitude`, `pickup_longitude`, and `trip_distance` from each trip.  That will give us the trip location and related `trip_distance` for each trip.  Then based on these **actual** trip distances we can use nearest neighbors to predict an **expected** trip distance for a trip, provided an **actual** location."
   ]
  },
  {
   "cell_type": "markdown",
   "metadata": {},
   "source": [
    "** Add in about trip distance ** "
   ]
  },
  {
   "cell_type": "markdown",
   "metadata": {},
   "source": [
    "Write a function called `parse_trips(trips)` that returns a list of the trips with only the following attributes: \n",
    "* `trip_distance`\n",
    "* `pickup_latitude`\n",
    "* `pickup_longitude`"
   ]
  },
  {
   "cell_type": "code",
   "execution_count": 4,
   "metadata": {},
   "outputs": [],
   "source": [
    "def parse_trips(trips):\n",
    "    return list(map(lambda trip: dict(pickup_latitude = trip['pickup_latitude'],\n",
    "                                     pickup_longitude = trip['pickup_longitude'],\n",
    "                                     trip_distance = trip['trip_distance']), trips))"
   ]
  },
  {
   "cell_type": "code",
   "execution_count": 5,
   "metadata": {},
   "outputs": [
    {
     "data": {
      "text/plain": [
       "{'pickup_latitude': '40.64499',\n",
       " 'pickup_longitude': '-73.781149999999997',\n",
       " 'trip_distance': '18.379999999999999'}"
      ]
     },
     "execution_count": 5,
     "metadata": {},
     "output_type": "execute_result"
    }
   ],
   "source": [
    "parsed_trips = parse_trips(trips)\n",
    "parsed_trips and parsed_trips[0]\n",
    "\n",
    "# {'pickup_latitude': '40.64499',\n",
    "#  'pickup_longitude': '-73.78115',\n",
    "#  'trip_distance': '18.38'}"
   ]
  },
  {
   "cell_type": "markdown",
   "metadata": {},
   "source": [
    "Now, there's just one change to make.  If you look at one of the trips, all of the values are strings.  Let's change them to be floats."
   ]
  },
  {
   "cell_type": "code",
   "execution_count": 6,
   "metadata": {},
   "outputs": [],
   "source": [
    "def float_values(trips):    \n",
    "    return list(\n",
    "        map(\n",
    "            lambda trip: dict(pickup_latitude = float(trip['pickup_latitude']),\n",
    "                              pickup_longitude = float(trip['pickup_longitude']),\n",
    "                              trip_distance = float(trip['trip_distance'])), trips\n",
    "        )\n",
    "    )"
   ]
  },
  {
   "cell_type": "code",
   "execution_count": 7,
   "metadata": {},
   "outputs": [],
   "source": [
    "cleaned_trips = float_values(parsed_trips)"
   ]
  },
  {
   "cell_type": "code",
   "execution_count": 8,
   "metadata": {},
   "outputs": [
    {
     "data": {
      "text/plain": [
       "{'pickup_latitude': 40.64499,\n",
       " 'pickup_longitude': -73.78115,\n",
       " 'trip_distance': 18.38}"
      ]
     },
     "execution_count": 8,
     "metadata": {},
     "output_type": "execute_result"
    }
   ],
   "source": [
    "cleaned_trips[0]\n",
    "\n",
    "# {'pickup_latitude': 40.64499,\n",
    "#  'pickup_longitude': -73.78115,\n",
    "#  'trip_distance': 18.38}"
   ]
  },
  {
   "cell_type": "markdown",
   "metadata": {},
   "source": [
    "### Exploring the Data"
   ]
  },
  {
   "cell_type": "markdown",
   "metadata": {},
   "source": [
    "Now that we have paired down our data, let's get a sense of our trip data.  We can use the `folium` Python library to plot a map of Manhattan, and our data.  First we must import `folium`, and then use the `Map` function to pass through a `location`, and `zoom_start`.  If a map isn't showing up below, copy and paste the command `pip install -r requirements.txt` into your terminal to install `folium` then try again."
   ]
  },
  {
   "cell_type": "code",
   "execution_count": 9,
   "metadata": {},
   "outputs": [],
   "source": [
    "import folium\n",
    "manhattan_map = folium.Map(location=[40.7589, -73.9851], zoom_start=11)"
   ]
  },
  {
   "cell_type": "code",
   "execution_count": 10,
   "metadata": {
    "scrolled": true
   },
   "outputs": [
    {
     "data": {
      "text/html": [
       "<div style=\"width:100%;\"><div style=\"position:relative;width:100%;height:0;padding-bottom:60%;\"><iframe src=\"data:text/html;charset=utf-8;base64,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\" style=\"position:absolute;width:100%;height:100%;left:0;top:0;border:none !important;\" allowfullscreen webkitallowfullscreen mozallowfullscreen></iframe></div></div>"
      ],
      "text/plain": [
       "<folium.folium.Map at 0x7f2a6c212e10>"
      ]
     },
     "execution_count": 10,
     "metadata": {},
     "output_type": "execute_result"
    }
   ],
   "source": [
    "manhattan_map"
   ]
  },
  {
   "cell_type": "markdown",
   "metadata": {},
   "source": [
    "Ok, now let's see how we could add a dot to mark a specific location.  We'll start with Times Square."
   ]
  },
  {
   "cell_type": "code",
   "execution_count": 11,
   "metadata": {},
   "outputs": [
    {
     "data": {
      "text/plain": [
       "<folium.features.CircleMarker at 0x7f2a511405f8>"
      ]
     },
     "execution_count": 11,
     "metadata": {},
     "output_type": "execute_result"
    }
   ],
   "source": [
    "marker = folium.CircleMarker(location = [40.7589, -73.9851], radius=10)\n",
    "marker.add_to(manhattan_map)"
   ]
  },
  {
   "cell_type": "markdown",
   "metadata": {},
   "source": [
    "Above, we first create a marker.  Then we add that circle marker to the `manhattan_map` we created earlier. "
   ]
  },
  {
   "cell_type": "code",
   "execution_count": 12,
   "metadata": {
    "scrolled": false
   },
   "outputs": [
    {
     "data": {
      "text/html": [
       "<div style=\"width:100%;\"><div style=\"position:relative;width:100%;height:0;padding-bottom:60%;\"><iframe src=\"data:text/html;charset=utf-8;base64,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\" style=\"position:absolute;width:100%;height:100%;left:0;top:0;border:none !important;\" allowfullscreen webkitallowfullscreen mozallowfullscreen></iframe></div></div>"
      ],
      "text/plain": [
       "<folium.folium.Map at 0x7f2a6c212e10>"
      ]
     },
     "execution_count": 12,
     "metadata": {},
     "output_type": "execute_result"
    }
   ],
   "source": [
    "manhattan_map"
   ]
  },
  {
   "cell_type": "markdown",
   "metadata": {},
   "source": [
    "Do you see that blue dot near Time's Square?  That is our marker.  \n",
    "\n",
    "So now that we can plot one marker on a map, we should have a sense of how we can plot many markers on a map to display our taxi ride data.  We simply plot a map, and then we add a marker for each location of a taxi trip.\n",
    "\n",
    "Now let's write some functions to allow us to plot maps and add markers a little more easily.  "
   ]
  },
  {
   "cell_type": "markdown",
   "metadata": {},
   "source": [
    "#### Writing some map plotting functions"
   ]
  },
  {
   "cell_type": "markdown",
   "metadata": {},
   "source": [
    "As a first step towards this, note that the functions to create both a marker and map each take in a location as two element list, representing the latitude and longitude values.  Take another look:\n",
    "\n",
    "```python\n",
    "marker = folium.CircleMarker(location = [40.7589, -73.9851])\n",
    "manhattan_map = folium.Map(location=[40.7589, -73.9851])\n",
    "```\n",
    "\n",
    "So let's write a function called to create this two element list from a trip.  Write a function called `location` that  takes in a trip as an argument and returns a list where the first element is the latitude and the second is the longitude.  Remember that a location looks like the following:"
   ]
  },
  {
   "cell_type": "code",
   "execution_count": 13,
   "metadata": {},
   "outputs": [
    {
     "data": {
      "text/plain": [
       "{'pickup_latitude': 40.64499,\n",
       " 'pickup_longitude': -73.78115,\n",
       " 'trip_distance': 18.38}"
      ]
     },
     "execution_count": 13,
     "metadata": {},
     "output_type": "execute_result"
    }
   ],
   "source": [
    "first_trip = {'pickup_latitude': 40.64499, 'pickup_longitude': -73.78115,  'trip_distance': 18.38}\n",
    "first_trip"
   ]
  },
  {
   "cell_type": "code",
   "execution_count": 14,
   "metadata": {},
   "outputs": [],
   "source": [
    "def location(trip):\n",
    "    return [trip['pickup_latitude'], trip['pickup_longitude']]"
   ]
  },
  {
   "cell_type": "code",
   "execution_count": 15,
   "metadata": {},
   "outputs": [
    {
     "data": {
      "text/plain": [
       "[40.64499, -73.78115]"
      ]
     },
     "execution_count": 15,
     "metadata": {},
     "output_type": "execute_result"
    }
   ],
   "source": [
    "first_location = location(first_trip) # [40.64499, -73.78115]\n",
    "first_location # [40.64499, -73.78115]"
   ]
  },
  {
   "cell_type": "markdown",
   "metadata": {},
   "source": [
    "Ok, now that we can turn a trip into a location, let's turn a location into a marker.  Write a function called `to_marker` that takes in a location (in the form of a list) as an argument, and returns a folium `circleMarker` for that location.  The radius of the marker should always equal 6."
   ]
  },
  {
   "cell_type": "code",
   "execution_count": 16,
   "metadata": {},
   "outputs": [],
   "source": [
    "def to_marker(location):\n",
    "    return folium.CircleMarker(location, radius = 6)"
   ]
  },
  {
   "cell_type": "code",
   "execution_count": 17,
   "metadata": {},
   "outputs": [
    {
     "data": {
      "text/plain": [
       "6"
      ]
     },
     "execution_count": 17,
     "metadata": {},
     "output_type": "execute_result"
    }
   ],
   "source": [
    "import json\n",
    "times_square_marker = to_marker([40.7589, -73.9851])\n",
    "\n",
    "times_square_marker and times_square_marker.location # [40.7589, -73.9851]\n",
    "times_square_marker and json.loads(times_square_marker.options)['radius'] # 6"
   ]
  },
  {
   "cell_type": "markdown",
   "metadata": {},
   "source": [
    "Ok, now that we know how to produce a single marker, let's write a function to produce lots.  We can write a function called `markers_from_trips` that takes in a list of trips, and returns a marker object for each trip.  "
   ]
  },
  {
   "cell_type": "code",
   "execution_count": 18,
   "metadata": {},
   "outputs": [],
   "source": [
    "def markers_from_trips(trips):\n",
    "    return list(map(lambda trip: to_marker(location(trip)), trips))"
   ]
  },
  {
   "cell_type": "code",
   "execution_count": 19,
   "metadata": {},
   "outputs": [
    {
     "data": {
      "text/plain": [
       "<folium.features.CircleMarker at 0x7f2a51140390>"
      ]
     },
     "execution_count": 19,
     "metadata": {},
     "output_type": "execute_result"
    }
   ],
   "source": [
    "trip_markers = markers_from_trips(cleaned_trips)\n",
    "trip_markers[0]"
   ]
  },
  {
   "cell_type": "code",
   "execution_count": 20,
   "metadata": {},
   "outputs": [
    {
     "data": {
      "text/plain": [
       "[{'pickup_latitude': 40.64499,\n",
       "  'pickup_longitude': -73.78115,\n",
       "  'trip_distance': 18.38},\n",
       " {'pickup_latitude': 40.766931,\n",
       "  'pickup_longitude': -73.982098,\n",
       "  'trip_distance': 1.3},\n",
       " {'pickup_latitude': 40.77773,\n",
       "  'pickup_longitude': -73.951902,\n",
       "  'trip_distance': 4.5},\n",
       " {'pickup_latitude': 40.795678,\n",
       "  'pickup_longitude': -73.971049,\n",
       "  'trip_distance': 2.4}]"
      ]
     },
     "execution_count": 20,
     "metadata": {},
     "output_type": "execute_result"
    }
   ],
   "source": [
    "cleaned_trips[0:4]"
   ]
  },
  {
   "cell_type": "code",
   "execution_count": 21,
   "metadata": {},
   "outputs": [
    {
     "data": {
      "text/plain": [
       "[[40.64499, -73.78115],\n",
       " [40.766931, -73.982098],\n",
       " [40.77773, -73.951902],\n",
       " [40.795678, -73.971049]]"
      ]
     },
     "execution_count": 21,
     "metadata": {},
     "output_type": "execute_result"
    }
   ],
   "source": [
    "trip_markers and len(trip_markers) # 1000\n",
    "\n",
    "list(map(lambda marker: marker.location, trip_markers[0:4]))\n",
    "# [[40.64499, -73.78115],\n",
    "#  [40.766931, -73.982098],\n",
    "#  [40.77773, -73.951902],\n",
    "#  [40.795678, -73.971049]]"
   ]
  },
  {
   "cell_type": "markdown",
   "metadata": {},
   "source": [
    "Ok, now that we have a function that creates locations, and a function that creates markers, it is time to write a function to plot a map. \n",
    "\n",
    "Write a function called `map_from` that, provided the first argument of a list location and second argument an integer representing the `zoom_start`, returns a `folium` map the corresponding location and `zoom_start` attributes.\n",
    "\n",
    "> Hint: The following is how to write a map with folium:\n",
    "> ```python \n",
    "    folium.Map(location=location, zoom_start=zoom_amount)\n",
    "> ```"
   ]
  },
  {
   "cell_type": "code",
   "execution_count": 22,
   "metadata": {},
   "outputs": [],
   "source": [
    "def map_from(location, zoom_amount):\n",
    "    return folium.Map(location = location, zoom_start = zoom_amount)"
   ]
  },
  {
   "cell_type": "code",
   "execution_count": 23,
   "metadata": {},
   "outputs": [
    {
     "data": {
      "text/plain": [
       "15"
      ]
     },
     "execution_count": 23,
     "metadata": {},
     "output_type": "execute_result"
    }
   ],
   "source": [
    "times_square_map = map_from([40.7589, -73.9851], 15)\n",
    "times_square_map and times_square_map.location # [40.7589, -73.9851]\n",
    "times_square_map and times_square_map.zoom_start # 15"
   ]
  },
  {
   "cell_type": "code",
   "execution_count": 24,
   "metadata": {
    "scrolled": true
   },
   "outputs": [
    {
     "data": {
      "text/html": [
       "<div style=\"width:100%;\"><div style=\"position:relative;width:100%;height:0;padding-bottom:60%;\"><iframe src=\"data:text/html;charset=utf-8;base64,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\" style=\"position:absolute;width:100%;height:100%;left:0;top:0;border:none !important;\" allowfullscreen webkitallowfullscreen mozallowfullscreen></iframe></div></div>"
      ],
      "text/plain": [
       "<folium.folium.Map at 0x7f2a50d645f8>"
      ]
     },
     "execution_count": 24,
     "metadata": {},
     "output_type": "execute_result"
    }
   ],
   "source": [
    "times_square_marker and times_square_marker.add_to(times_square_map)\n",
    "times_square_map"
   ]
  },
  {
   "cell_type": "markdown",
   "metadata": {},
   "source": [
    "Now that we have a marker and a map, now let's write a function that adds a lot of markers to a map.  This function should add each marker in the list to the map object then return the updated map object."
   ]
  },
  {
   "cell_type": "code",
   "execution_count": 25,
   "metadata": {},
   "outputs": [],
   "source": [
    "manhattan_map = map_from([40.7589, -73.9851], 13)"
   ]
  },
  {
   "cell_type": "code",
   "execution_count": 26,
   "metadata": {},
   "outputs": [],
   "source": [
    "def add_markers(markers, map_obj):\n",
    "    return list(map(lambda marker: marker.add_to(map_obj), markers))"
   ]
  },
  {
   "cell_type": "code",
   "execution_count": 27,
   "metadata": {
    "scrolled": false
   },
   "outputs": [],
   "source": [
    "map_with_markers = add_markers(trip_markers, manhattan_map)"
   ]
  },
  {
   "cell_type": "code",
   "execution_count": 28,
   "metadata": {},
   "outputs": [
    {
     "data": {
      "text/plain": [
       "[<folium.features.CircleMarker at 0x7f2a51140390>,\n",
       " <folium.features.CircleMarker at 0x7f2a5117d0f0>,\n",
       " <folium.features.CircleMarker at 0x7f2a5117d518>,\n",
       " <folium.features.CircleMarker at 0x7f2a5117d198>,\n",
       " <folium.features.CircleMarker at 0x7f2a5117dd30>,\n",
       " <folium.features.CircleMarker at 0x7f2a511406a0>,\n",
       " <folium.features.CircleMarker at 0x7f2a51140080>,\n",
       " <folium.features.CircleMarker at 0x7f2a5117df60>,\n",
       " <folium.features.CircleMarker at 0x7f2a51140a58>,\n",
       " <folium.features.CircleMarker at 0x7f2a511e2ef0>,\n",
       " <folium.features.CircleMarker at 0x7f2a5117dd68>,\n",
       " <folium.features.CircleMarker at 0x7f2a5117d2e8>,\n",
       " <folium.features.CircleMarker at 0x7f2a5117dc88>,\n",
       " <folium.features.CircleMarker at 0x7f2a5117d240>,\n",
       " <folium.features.CircleMarker at 0x7f2a5117d5f8>,\n",
       " <folium.features.CircleMarker at 0x7f2a5117db38>,\n",
       " <folium.features.CircleMarker at 0x7f2a511409e8>,\n",
       " <folium.features.CircleMarker at 0x7f2a51140198>,\n",
       " <folium.features.CircleMarker at 0x7f2a511e29b0>,\n",
       " <folium.features.CircleMarker at 0x7f2a511e2e48>,\n",
       " <folium.features.CircleMarker at 0x7f2a5117d7f0>,\n",
       " <folium.features.CircleMarker at 0x7f2a5118f630>,\n",
       " <folium.features.CircleMarker at 0x7f2a5118f898>,\n",
       " <folium.features.CircleMarker at 0x7f2a5117db00>,\n",
       " <folium.features.CircleMarker at 0x7f2a5117ddd8>,\n",
       " <folium.features.CircleMarker at 0x7f2a5117d2b0>,\n",
       " <folium.features.CircleMarker at 0x7f2a5117da20>,\n",
       " <folium.features.CircleMarker at 0x7f2a5118f320>,\n",
       " <folium.features.CircleMarker at 0x7f2a5118ffd0>,\n",
       " <folium.features.CircleMarker at 0x7f2a5118f278>,\n",
       " <folium.features.CircleMarker at 0x7f2a5118fd68>,\n",
       " <folium.features.CircleMarker at 0x7f2a5117deb8>,\n",
       " <folium.features.CircleMarker at 0x7f2a5117d128>,\n",
       " <folium.features.CircleMarker at 0x7f2a5117def0>,\n",
       " <folium.features.CircleMarker at 0x7f2a5117d208>,\n",
       " <folium.features.CircleMarker at 0x7f2a5117da90>,\n",
       " <folium.features.CircleMarker at 0x7f2a5118fbe0>,\n",
       " <folium.features.CircleMarker at 0x7f2a5119c048>,\n",
       " <folium.features.CircleMarker at 0x7f2a5118f940>,\n",
       " <folium.features.CircleMarker at 0x7f2a5118f8d0>,\n",
       " <folium.features.CircleMarker at 0x7f2a5118f470>,\n",
       " <folium.features.CircleMarker at 0x7f2a5118fd30>,\n",
       " <folium.features.CircleMarker at 0x7f2a5119cf60>,\n",
       " <folium.features.CircleMarker at 0x7f2a5119ca90>,\n",
       " <folium.features.CircleMarker at 0x7f2a5119c240>,\n",
       " <folium.features.CircleMarker at 0x7f2a5119c5f8>,\n",
       " <folium.features.CircleMarker at 0x7f2a5119c390>,\n",
       " <folium.features.CircleMarker at 0x7f2a5119ca20>,\n",
       " <folium.features.CircleMarker at 0x7f2a5118f6a0>,\n",
       " <folium.features.CircleMarker at 0x7f2a5118f908>,\n",
       " <folium.features.CircleMarker at 0x7f2a5118f5c0>,\n",
       " <folium.features.CircleMarker at 0x7f2a5118fa58>,\n",
       " <folium.features.CircleMarker at 0x7f2a5118fc50>,\n",
       " <folium.features.CircleMarker at 0x7f2a5119cfd0>,\n",
       " <folium.features.CircleMarker at 0x7f2a5115f1d0>,\n",
       " <folium.features.CircleMarker at 0x7f2a5115fc50>,\n",
       " <folium.features.CircleMarker at 0x7f2a5115fd68>,\n",
       " <folium.features.CircleMarker at 0x7f2a5115f7f0>,\n",
       " <folium.features.CircleMarker at 0x7f2a5118f0f0>,\n",
       " <folium.features.CircleMarker at 0x7f2a5119c7b8>,\n",
       " <folium.features.CircleMarker at 0x7f2a5119ceb8>,\n",
       " <folium.features.CircleMarker at 0x7f2a5115f588>,\n",
       " <folium.features.CircleMarker at 0x7f2a5115f9e8>,\n",
       " <folium.features.CircleMarker at 0x7f2a5115f668>,\n",
       " <folium.features.CircleMarker at 0x7f2a5115f470>,\n",
       " <folium.features.CircleMarker at 0x7f2a5115f780>,\n",
       " <folium.features.CircleMarker at 0x7f2a5115f6a0>,\n",
       " <folium.features.CircleMarker at 0x7f2a5115f048>,\n",
       " <folium.features.CircleMarker at 0x7f2a5116ae80>,\n",
       " <folium.features.CircleMarker at 0x7f2a5116ab00>,\n",
       " <folium.features.CircleMarker at 0x7f2a5116a438>,\n",
       " <folium.features.CircleMarker at 0x7f2a5116a9e8>,\n",
       " <folium.features.CircleMarker at 0x7f2a5115fda0>,\n",
       " <folium.features.CircleMarker at 0x7f2a5115ff28>,\n",
       " <folium.features.CircleMarker at 0x7f2a5115f550>,\n",
       " <folium.features.CircleMarker at 0x7f2a5116a5f8>,\n",
       " <folium.features.CircleMarker at 0x7f2a5116aef0>,\n",
       " <folium.features.CircleMarker at 0x7f2a5116a128>,\n",
       " <folium.features.CircleMarker at 0x7f2a5116ae10>,\n",
       " <folium.features.CircleMarker at 0x7f2a5115fd30>,\n",
       " <folium.features.CircleMarker at 0x7f2a5115fa90>,\n",
       " <folium.features.CircleMarker at 0x7f2a5115ff98>,\n",
       " <folium.features.CircleMarker at 0x7f2a5119c438>,\n",
       " <folium.features.CircleMarker at 0x7f2a5115f3c8>,\n",
       " <folium.features.CircleMarker at 0x7f2a5119ce48>,\n",
       " <folium.features.CircleMarker at 0x7f2a5119c0f0>,\n",
       " <folium.features.CircleMarker at 0x7f2a5119c588>,\n",
       " <folium.features.CircleMarker at 0x7f2a5110ed68>,\n",
       " <folium.features.CircleMarker at 0x7f2a5110e4e0>,\n",
       " <folium.features.CircleMarker at 0x7f2a5110ee48>,\n",
       " <folium.features.CircleMarker at 0x7f2a5110eef0>,\n",
       " <folium.features.CircleMarker at 0x7f2a5110e048>,\n",
       " <folium.features.CircleMarker at 0x7f2a5110e0b8>,\n",
       " <folium.features.CircleMarker at 0x7f2a5110e400>,\n",
       " <folium.features.CircleMarker at 0x7f2a5116a3c8>,\n",
       " <folium.features.CircleMarker at 0x7f2a5118f9b0>,\n",
       " <folium.features.CircleMarker at 0x7f2a5119c9e8>,\n",
       " <folium.features.CircleMarker at 0x7f2a5119c860>,\n",
       " <folium.features.CircleMarker at 0x7f2a5119cb38>,\n",
       " <folium.features.CircleMarker at 0x7f2a5119cda0>,\n",
       " <folium.features.CircleMarker at 0x7f2a5116a860>,\n",
       " <folium.features.CircleMarker at 0x7f2a5115f240>,\n",
       " <folium.features.CircleMarker at 0x7f2a5110eb00>,\n",
       " <folium.features.CircleMarker at 0x7f2a5110e6a0>,\n",
       " <folium.features.CircleMarker at 0x7f2a5110e8d0>,\n",
       " <folium.features.CircleMarker at 0x7f2a5110e978>,\n",
       " <folium.features.CircleMarker at 0x7f2a5110e5f8>,\n",
       " <folium.features.CircleMarker at 0x7f2a5110e7b8>,\n",
       " <folium.features.CircleMarker at 0x7f2a5110e080>,\n",
       " <folium.features.CircleMarker at 0x7f2a51103e80>,\n",
       " <folium.features.CircleMarker at 0x7f2a51103940>,\n",
       " <folium.features.CircleMarker at 0x7f2a51103208>,\n",
       " <folium.features.CircleMarker at 0x7f2a51103080>,\n",
       " <folium.features.CircleMarker at 0x7f2a51103ef0>,\n",
       " <folium.features.CircleMarker at 0x7f2a5110e898>,\n",
       " <folium.features.CircleMarker at 0x7f2a5110eac8>,\n",
       " <folium.features.CircleMarker at 0x7f2a5110e9e8>,\n",
       " <folium.features.CircleMarker at 0x7f2a5116aac8>,\n",
       " <folium.features.CircleMarker at 0x7f2a5116a7f0>,\n",
       " <folium.features.CircleMarker at 0x7f2a5116a748>,\n",
       " <folium.features.CircleMarker at 0x7f2a5116ac88>,\n",
       " <folium.features.CircleMarker at 0x7f2a51103240>,\n",
       " <folium.features.CircleMarker at 0x7f2a51103550>,\n",
       " <folium.features.CircleMarker at 0x7f2a51103198>,\n",
       " <folium.features.CircleMarker at 0x7f2a511035f8>,\n",
       " <folium.features.CircleMarker at 0x7f2a51103dd8>,\n",
       " <folium.features.CircleMarker at 0x7f2a51103588>,\n",
       " <folium.features.CircleMarker at 0x7f2a51103fd0>,\n",
       " <folium.features.CircleMarker at 0x7f2a51122780>,\n",
       " <folium.features.CircleMarker at 0x7f2a51122a90>,\n",
       " <folium.features.CircleMarker at 0x7f2a511221d0>,\n",
       " <folium.features.CircleMarker at 0x7f2a51122e10>,\n",
       " <folium.features.CircleMarker at 0x7f2a51122128>,\n",
       " <folium.features.CircleMarker at 0x7f2a51122860>,\n",
       " <folium.features.CircleMarker at 0x7f2a51140780>,\n",
       " <folium.features.CircleMarker at 0x7f2a51103320>,\n",
       " <folium.features.CircleMarker at 0x7f2a51103400>,\n",
       " <folium.features.CircleMarker at 0x7f2a51103cc0>,\n",
       " <folium.features.CircleMarker at 0x7f2a51103630>,\n",
       " <folium.features.CircleMarker at 0x7f2a51103c18>,\n",
       " <folium.features.CircleMarker at 0x7f2a51103f98>,\n",
       " <folium.features.CircleMarker at 0x7f2a511039e8>,\n",
       " <folium.features.CircleMarker at 0x7f2a510c4358>,\n",
       " <folium.features.CircleMarker at 0x7f2a510c4748>,\n",
       " <folium.features.CircleMarker at 0x7f2a5110e7f0>,\n",
       " <folium.features.CircleMarker at 0x7f2a510c4da0>,\n",
       " <folium.features.CircleMarker at 0x7f2a510c4f60>,\n",
       " <folium.features.CircleMarker at 0x7f2a510c47f0>,\n",
       " <folium.features.CircleMarker at 0x7f2a510c4a58>,\n",
       " <folium.features.CircleMarker at 0x7f2a511228d0>,\n",
       " <folium.features.CircleMarker at 0x7f2a51122b38>,\n",
       " <folium.features.CircleMarker at 0x7f2a51122f60>,\n",
       " <folium.features.CircleMarker at 0x7f2a51122fd0>,\n",
       " <folium.features.CircleMarker at 0x7f2a5110e128>,\n",
       " <folium.features.CircleMarker at 0x7f2a5116add8>,\n",
       " <folium.features.CircleMarker at 0x7f2a510c4eb8>,\n",
       " <folium.features.CircleMarker at 0x7f2a510c4588>,\n",
       " <folium.features.CircleMarker at 0x7f2a510c49e8>,\n",
       " <folium.features.CircleMarker at 0x7f2a510c4cc0>,\n",
       " <folium.features.CircleMarker at 0x7f2a510c4828>,\n",
       " <folium.features.CircleMarker at 0x7f2a510c4e48>,\n",
       " <folium.features.CircleMarker at 0x7f2a510ead30>,\n",
       " <folium.features.CircleMarker at 0x7f2a510ea978>,\n",
       " <folium.features.CircleMarker at 0x7f2a510eab00>,\n",
       " <folium.features.CircleMarker at 0x7f2a510ea898>,\n",
       " <folium.features.CircleMarker at 0x7f2a510ea9b0>,\n",
       " <folium.features.CircleMarker at 0x7f2a510c4710>,\n",
       " <folium.features.CircleMarker at 0x7f2a510c4550>,\n",
       " <folium.features.CircleMarker at 0x7f2a510c4b70>,\n",
       " <folium.features.CircleMarker at 0x7f2a510c4c18>,\n",
       " <folium.features.CircleMarker at 0x7f2a510c40f0>,\n",
       " <folium.features.CircleMarker at 0x7f2a510c4978>,\n",
       " <folium.features.CircleMarker at 0x7f2a51122278>,\n",
       " <folium.features.CircleMarker at 0x7f2a51122048>,\n",
       " <folium.features.CircleMarker at 0x7f2a5110e2b0>,\n",
       " <folium.features.CircleMarker at 0x7f2a510ea198>,\n",
       " <folium.features.CircleMarker at 0x7f2a510ea2e8>,\n",
       " <folium.features.CircleMarker at 0x7f2a510eab70>,\n",
       " <folium.features.CircleMarker at 0x7f2a510eaf28>,\n",
       " <folium.features.CircleMarker at 0x7f2a510ea208>,\n",
       " <folium.features.CircleMarker at 0x7f2a510ea3c8>,\n",
       " <folium.features.CircleMarker at 0x7f2a510ed9e8>,\n",
       " <folium.features.CircleMarker at 0x7f2a510ede48>,\n",
       " <folium.features.CircleMarker at 0x7f2a510ed1d0>,\n",
       " <folium.features.CircleMarker at 0x7f2a510ed7f0>,\n",
       " <folium.features.CircleMarker at 0x7f2a51122c18>,\n",
       " <folium.features.CircleMarker at 0x7f2a511224a8>,\n",
       " <folium.features.CircleMarker at 0x7f2a51122c88>,\n",
       " <folium.features.CircleMarker at 0x7f2a510eaa90>,\n",
       " <folium.features.CircleMarker at 0x7f2a510ea5c0>,\n",
       " <folium.features.CircleMarker at 0x7f2a510eacf8>,\n",
       " <folium.features.CircleMarker at 0x7f2a510ea748>,\n",
       " <folium.features.CircleMarker at 0x7f2a510ea470>,\n",
       " <folium.features.CircleMarker at 0x7f2a510ea940>,\n",
       " <folium.features.CircleMarker at 0x7f2a5107e278>,\n",
       " <folium.features.CircleMarker at 0x7f2a510eadd8>,\n",
       " <folium.features.CircleMarker at 0x7f2a510ed860>,\n",
       " <folium.features.CircleMarker at 0x7f2a510ed438>,\n",
       " <folium.features.CircleMarker at 0x7f2a510ed898>,\n",
       " <folium.features.CircleMarker at 0x7f2a510edda0>,\n",
       " <folium.features.CircleMarker at 0x7f2a510eda90>,\n",
       " <folium.features.CircleMarker at 0x7f2a5107ec18>,\n",
       " <folium.features.CircleMarker at 0x7f2a5107ee48>,\n",
       " <folium.features.CircleMarker at 0x7f2a5107e048>,\n",
       " <folium.features.CircleMarker at 0x7f2a5107e160>,\n",
       " <folium.features.CircleMarker at 0x7f2a5107e6a0>,\n",
       " <folium.features.CircleMarker at 0x7f2a5107e978>,\n",
       " <folium.features.CircleMarker at 0x7f2a510ed320>,\n",
       " <folium.features.CircleMarker at 0x7f2a510edcf8>,\n",
       " <folium.features.CircleMarker at 0x7f2a510ed710>,\n",
       " <folium.features.CircleMarker at 0x7f2a510eda20>,\n",
       " <folium.features.CircleMarker at 0x7f2a510ed390>,\n",
       " <folium.features.CircleMarker at 0x7f2a510ed358>,\n",
       " <folium.features.CircleMarker at 0x7f2a510edac8>,\n",
       " <folium.features.CircleMarker at 0x7f2a51086f28>,\n",
       " <folium.features.CircleMarker at 0x7f2a51086ef0>,\n",
       " <folium.features.CircleMarker at 0x7f2a510869e8>,\n",
       " <folium.features.CircleMarker at 0x7f2a51086588>,\n",
       " <folium.features.CircleMarker at 0x7f2a51086f60>,\n",
       " <folium.features.CircleMarker at 0x7f2a51086828>,\n",
       " <folium.features.CircleMarker at 0x7f2a51086128>,\n",
       " <folium.features.CircleMarker at 0x7f2a51103390>,\n",
       " <folium.features.CircleMarker at 0x7f2a51122f28>,\n",
       " <folium.features.CircleMarker at 0x7f2a51122438>,\n",
       " <folium.features.CircleMarker at 0x7f2a5107ef98>,\n",
       " <folium.features.CircleMarker at 0x7f2a5107ea58>,\n",
       " <folium.features.CircleMarker at 0x7f2a5107eb00>,\n",
       " <folium.features.CircleMarker at 0x7f2a510eda58>,\n",
       " <folium.features.CircleMarker at 0x7f2a510863c8>,\n",
       " <folium.features.CircleMarker at 0x7f2a510867f0>,\n",
       " <folium.features.CircleMarker at 0x7f2a51086e48>,\n",
       " <folium.features.CircleMarker at 0x7f2a51086ac8>,\n",
       " <folium.features.CircleMarker at 0x7f2a51086630>,\n",
       " <folium.features.CircleMarker at 0x7f2a510868d0>,\n",
       " <folium.features.CircleMarker at 0x7f2a5104c358>,\n",
       " <folium.features.CircleMarker at 0x7f2a5104ca58>,\n",
       " <folium.features.CircleMarker at 0x7f2a5104c710>,\n",
       " <folium.features.CircleMarker at 0x7f2a5104c0f0>,\n",
       " <folium.features.CircleMarker at 0x7f2a5104cb70>,\n",
       " <folium.features.CircleMarker at 0x7f2a51086a58>,\n",
       " <folium.features.CircleMarker at 0x7f2a5104c978>,\n",
       " <folium.features.CircleMarker at 0x7f2a5107e780>,\n",
       " <folium.features.CircleMarker at 0x7f2a5104c4e0>,\n",
       " <folium.features.CircleMarker at 0x7f2a5104cc18>,\n",
       " <folium.features.CircleMarker at 0x7f2a5104c5c0>,\n",
       " <folium.features.CircleMarker at 0x7f2a5104cc88>,\n",
       " <folium.features.CircleMarker at 0x7f2a5104cfd0>,\n",
       " <folium.features.CircleMarker at 0x7f2a5104c550>,\n",
       " <folium.features.CircleMarker at 0x7f2a5107e518>,\n",
       " <folium.features.CircleMarker at 0x7f2a510865f8>,\n",
       " <folium.features.CircleMarker at 0x7f2a510864a8>,\n",
       " <folium.features.CircleMarker at 0x7f2a510867b8>,\n",
       " <folium.features.CircleMarker at 0x7f2a5107e550>,\n",
       " <folium.features.CircleMarker at 0x7f2a5107ea20>,\n",
       " <folium.features.CircleMarker at 0x7f2a51061160>,\n",
       " <folium.features.CircleMarker at 0x7f2a51061d30>,\n",
       " <folium.features.CircleMarker at 0x7f2a51061a20>,\n",
       " <folium.features.CircleMarker at 0x7f2a51061fd0>,\n",
       " <folium.features.CircleMarker at 0x7f2a51061710>,\n",
       " <folium.features.CircleMarker at 0x7f2a51061278>,\n",
       " <folium.features.CircleMarker at 0x7f2a510615f8>,\n",
       " <folium.features.CircleMarker at 0x7f2a51061358>,\n",
       " <folium.features.CircleMarker at 0x7f2a5104c2e8>,\n",
       " <folium.features.CircleMarker at 0x7f2a5104ce80>,\n",
       " <folium.features.CircleMarker at 0x7f2a5104cf28>,\n",
       " <folium.features.CircleMarker at 0x7f2a5104ceb8>,\n",
       " <folium.features.CircleMarker at 0x7f2a5104c160>,\n",
       " <folium.features.CircleMarker at 0x7f2a5104cef0>,\n",
       " <folium.features.CircleMarker at 0x7f2a510749e8>,\n",
       " <folium.features.CircleMarker at 0x7f2a51074940>,\n",
       " <folium.features.CircleMarker at 0x7f2a51074f28>,\n",
       " <folium.features.CircleMarker at 0x7f2a51074be0>,\n",
       " <folium.features.CircleMarker at 0x7f2a51074eb8>,\n",
       " <folium.features.CircleMarker at 0x7f2a5107e588>,\n",
       " <folium.features.CircleMarker at 0x7f2a5107e438>,\n",
       " <folium.features.CircleMarker at 0x7f2a51074da0>,\n",
       " <folium.features.CircleMarker at 0x7f2a51061978>,\n",
       " <folium.features.CircleMarker at 0x7f2a51061b38>,\n",
       " <folium.features.CircleMarker at 0x7f2a51061208>,\n",
       " <folium.features.CircleMarker at 0x7f2a51061be0>,\n",
       " <folium.features.CircleMarker at 0x7f2a51061b70>,\n",
       " <folium.features.CircleMarker at 0x7f2a51061e10>,\n",
       " <folium.features.CircleMarker at 0x7f2a510612b0>,\n",
       " <folium.features.CircleMarker at 0x7f2a51004eb8>,\n",
       " <folium.features.CircleMarker at 0x7f2a51004b38>,\n",
       " <folium.features.CircleMarker at 0x7f2a51061048>,\n",
       " <folium.features.CircleMarker at 0x7f2a5104ccc0>,\n",
       " <folium.features.CircleMarker at 0x7f2a510040b8>,\n",
       " <folium.features.CircleMarker at 0x7f2a510040f0>,\n",
       " <folium.features.CircleMarker at 0x7f2a51004748>,\n",
       " <folium.features.CircleMarker at 0x7f2a51074400>,\n",
       " <folium.features.CircleMarker at 0x7f2a51074a58>,\n",
       " <folium.features.CircleMarker at 0x7f2a51074358>,\n",
       " <folium.features.CircleMarker at 0x7f2a51074b70>,\n",
       " <folium.features.CircleMarker at 0x7f2a51074898>,\n",
       " <folium.features.CircleMarker at 0x7f2a51074ba8>,\n",
       " <folium.features.CircleMarker at 0x7f2a510742b0>,\n",
       " <folium.features.CircleMarker at 0x7f2a51004588>,\n",
       " <folium.features.CircleMarker at 0x7f2a51004f28>,\n",
       " <folium.features.CircleMarker at 0x7f2a51004c88>,\n",
       " <folium.features.CircleMarker at 0x7f2a51004ef0>,\n",
       " <folium.features.CircleMarker at 0x7f2a51004780>,\n",
       " <folium.features.CircleMarker at 0x7f2a51004320>,\n",
       " <folium.features.CircleMarker at 0x7f2a510046d8>,\n",
       " <folium.features.CircleMarker at 0x7f2a5101ef60>,\n",
       " <folium.features.CircleMarker at 0x7f2a5101ef28>,\n",
       " <folium.features.CircleMarker at 0x7f2a5101e7f0>,\n",
       " <folium.features.CircleMarker at 0x7f2a5101e7b8>,\n",
       " <folium.features.CircleMarker at 0x7f2a5101e748>,\n",
       " <folium.features.CircleMarker at 0x7f2a51004908>,\n",
       " <folium.features.CircleMarker at 0x7f2a5101e9e8>,\n",
       " <folium.features.CircleMarker at 0x7f2a51074f98>,\n",
       " <folium.features.CircleMarker at 0x7f2a5101ee10>,\n",
       " <folium.features.CircleMarker at 0x7f2a5101e898>,\n",
       " <folium.features.CircleMarker at 0x7f2a5101e470>,\n",
       " <folium.features.CircleMarker at 0x7f2a5101e630>,\n",
       " <folium.features.CircleMarker at 0x7f2a5101e240>,\n",
       " <folium.features.CircleMarker at 0x7f2a5101ec18>,\n",
       " <folium.features.CircleMarker at 0x7f2a5102eeb8>,\n",
       " <folium.features.CircleMarker at 0x7f2a5102eb38>,\n",
       " <folium.features.CircleMarker at 0x7f2a5102e320>,\n",
       " <folium.features.CircleMarker at 0x7f2a51074c50>,\n",
       " <folium.features.CircleMarker at 0x7f2a51061940>,\n",
       " <folium.features.CircleMarker at 0x7f2a51061470>,\n",
       " <folium.features.CircleMarker at 0x7f2a5102e780>,\n",
       " <folium.features.CircleMarker at 0x7f2a5101e780>,\n",
       " <folium.features.CircleMarker at 0x7f2a5101e048>,\n",
       " <folium.features.CircleMarker at 0x7f2a5101e940>,\n",
       " <folium.features.CircleMarker at 0x7f2a5101e208>,\n",
       " <folium.features.CircleMarker at 0x7f2a5101e828>,\n",
       " <folium.features.CircleMarker at 0x7f2a5102ef28>,\n",
       " <folium.features.CircleMarker at 0x7f2a5102ecc0>,\n",
       " <folium.features.CircleMarker at 0x7f2a51004208>,\n",
       " <folium.features.CircleMarker at 0x7f2a51004e48>,\n",
       " <folium.features.CircleMarker at 0x7f2a51004710>,\n",
       " <folium.features.CircleMarker at 0x7f2a51004a90>,\n",
       " <folium.features.CircleMarker at 0x7f2a51004fd0>,\n",
       " <folium.features.CircleMarker at 0x7f2a5102e0f0>,\n",
       " <folium.features.CircleMarker at 0x7f2a5102ee80>,\n",
       " <folium.features.CircleMarker at 0x7f2a510234e0>,\n",
       " <folium.features.CircleMarker at 0x7f2a51023dd8>,\n",
       " <folium.features.CircleMarker at 0x7f2a51023080>,\n",
       " <folium.features.CircleMarker at 0x7f2a51023320>,\n",
       " <folium.features.CircleMarker at 0x7f2a51023c18>,\n",
       " <folium.features.CircleMarker at 0x7f2a51023a90>,\n",
       " <folium.features.CircleMarker at 0x7f2a51023898>,\n",
       " <folium.features.CircleMarker at 0x7f2a5102eb00>,\n",
       " <folium.features.CircleMarker at 0x7f2a5102e1d0>,\n",
       " <folium.features.CircleMarker at 0x7f2a5102e748>,\n",
       " <folium.features.CircleMarker at 0x7f2a5102ed30>,\n",
       " <folium.features.CircleMarker at 0x7f2a5102e550>,\n",
       " <folium.features.CircleMarker at 0x7f2a51023da0>,\n",
       " <folium.features.CircleMarker at 0x7f2a5102e6a0>,\n",
       " <folium.features.CircleMarker at 0x7f2a50fd3eb8>,\n",
       " <folium.features.CircleMarker at 0x7f2a50fd37f0>,\n",
       " <folium.features.CircleMarker at 0x7f2a50fd3208>,\n",
       " <folium.features.CircleMarker at 0x7f2a50fd3780>,\n",
       " <folium.features.CircleMarker at 0x7f2a50fd3b00>,\n",
       " <folium.features.CircleMarker at 0x7f2a50fd3198>,\n",
       " <folium.features.CircleMarker at 0x7f2a51023d30>,\n",
       " <folium.features.CircleMarker at 0x7f2a510044e0>,\n",
       " <folium.features.CircleMarker at 0x7f2a5101e0b8>,\n",
       " <folium.features.CircleMarker at 0x7f2a51061908>,\n",
       " <folium.features.CircleMarker at 0x7f2a51061400>,\n",
       " <folium.features.CircleMarker at 0x7f2a50fd3048>,\n",
       " <folium.features.CircleMarker at 0x7f2a50fd3f28>,\n",
       " <folium.features.CircleMarker at 0x7f2a50fd34e0>,\n",
       " <folium.features.CircleMarker at 0x7f2a50fd36d8>,\n",
       " <folium.features.CircleMarker at 0x7f2a51023748>,\n",
       " <folium.features.CircleMarker at 0x7f2a5107ef28>,\n",
       " <folium.features.CircleMarker at 0x7f2a5102edd8>,\n",
       " <folium.features.CircleMarker at 0x7f2a5102eef0>,\n",
       " <folium.features.CircleMarker at 0x7f2a51023048>,\n",
       " <folium.features.CircleMarker at 0x7f2a51023c88>,\n",
       " <folium.features.CircleMarker at 0x7f2a510230f0>,\n",
       " <folium.features.CircleMarker at 0x7f2a51023a20>,\n",
       " <folium.features.CircleMarker at 0x7f2a51023978>,\n",
       " <folium.features.CircleMarker at 0x7f2a50fd6be0>,\n",
       " <folium.features.CircleMarker at 0x7f2a50fd62b0>,\n",
       " <folium.features.CircleMarker at 0x7f2a50fd6128>,\n",
       " <folium.features.CircleMarker at 0x7f2a50fd6ef0>,\n",
       " <folium.features.CircleMarker at 0x7f2a50fd6b38>,\n",
       " <folium.features.CircleMarker at 0x7f2a51074438>,\n",
       " <folium.features.CircleMarker at 0x7f2a50fd60b8>,\n",
       " <folium.features.CircleMarker at 0x7f2a50fd35f8>,\n",
       " <folium.features.CircleMarker at 0x7f2a50fd3dd8>,\n",
       " <folium.features.CircleMarker at 0x7f2a51023828>,\n",
       " <folium.features.CircleMarker at 0x7f2a50fd37b8>,\n",
       " <folium.features.CircleMarker at 0x7f2a50fd3cc0>,\n",
       " <folium.features.CircleMarker at 0x7f2a50fd3fd0>,\n",
       " <folium.features.CircleMarker at 0x7f2a50fd6320>,\n",
       " <folium.features.CircleMarker at 0x7f2a50fed780>,\n",
       " <folium.features.CircleMarker at 0x7f2a50fed748>,\n",
       " <folium.features.CircleMarker at 0x7f2a50fed438>,\n",
       " <folium.features.CircleMarker at 0x7f2a5102e208>,\n",
       " <folium.features.CircleMarker at 0x7f2a51074208>,\n",
       " <folium.features.CircleMarker at 0x7f2a50feda58>,\n",
       " <folium.features.CircleMarker at 0x7f2a50fed3c8>,\n",
       " <folium.features.CircleMarker at 0x7f2a50fed320>,\n",
       " <folium.features.CircleMarker at 0x7f2a50fd6208>,\n",
       " <folium.features.CircleMarker at 0x7f2a50fd6b00>,\n",
       " <folium.features.CircleMarker at 0x7f2a50fd6828>,\n",
       " <folium.features.CircleMarker at 0x7f2a50fd6cf8>,\n",
       " <folium.features.CircleMarker at 0x7f2a50fd6fd0>,\n",
       " <folium.features.CircleMarker at 0x7f2a50fd6550>,\n",
       " <folium.features.CircleMarker at 0x7f2a50fd69b0>,\n",
       " <folium.features.CircleMarker at 0x7f2a50fed4e0>,\n",
       " <folium.features.CircleMarker at 0x7f2a50fed5c0>,\n",
       " <folium.features.CircleMarker at 0x7f2a50fed550>,\n",
       " <folium.features.CircleMarker at 0x7f2a50fed358>,\n",
       " <folium.features.CircleMarker at 0x7f2a50fed160>,\n",
       " <folium.features.CircleMarker at 0x7f2a50fedac8>,\n",
       " <folium.features.CircleMarker at 0x7f2a50feda20>,\n",
       " <folium.features.CircleMarker at 0x7f2a50f8ff98>,\n",
       " <folium.features.CircleMarker at 0x7f2a50f8fe48>,\n",
       " <folium.features.CircleMarker at 0x7f2a50f8fe10>,\n",
       " <folium.features.CircleMarker at 0x7f2a50f8f320>,\n",
       " <folium.features.CircleMarker at 0x7f2a50f8f860>,\n",
       " <folium.features.CircleMarker at 0x7f2a50fed6d8>,\n",
       " <folium.features.CircleMarker at 0x7f2a50f8fda0>,\n",
       " <folium.features.CircleMarker at 0x7f2a50fd67f0>,\n",
       " <folium.features.CircleMarker at 0x7f2a50fd68d0>,\n",
       " <folium.features.CircleMarker at 0x7f2a50fd69e8>,\n",
       " <folium.features.CircleMarker at 0x7f2a50fd6ac8>,\n",
       " <folium.features.CircleMarker at 0x7f2a50f8f5c0>,\n",
       " <folium.features.CircleMarker at 0x7f2a50f8fc88>,\n",
       " <folium.features.CircleMarker at 0x7f2a50f7b9e8>,\n",
       " <folium.features.CircleMarker at 0x7f2a50f7b320>,\n",
       " <folium.features.CircleMarker at 0x7f2a50f7bf60>,\n",
       " <folium.features.CircleMarker at 0x7f2a51023f60>,\n",
       " <folium.features.CircleMarker at 0x7f2a510746a0>,\n",
       " <folium.features.CircleMarker at 0x7f2a50fed5f8>,\n",
       " <folium.features.CircleMarker at 0x7f2a50f7b128>,\n",
       " <folium.features.CircleMarker at 0x7f2a50f7bcc0>,\n",
       " <folium.features.CircleMarker at 0x7f2a50f8fa20>,\n",
       " <folium.features.CircleMarker at 0x7f2a50f8f6a0>,\n",
       " <folium.features.CircleMarker at 0x7f2a50f8f198>,\n",
       " <folium.features.CircleMarker at 0x7f2a50f8fe80>,\n",
       " <folium.features.CircleMarker at 0x7f2a50f8f9e8>,\n",
       " <folium.features.CircleMarker at 0x7f2a50f7b8d0>,\n",
       " <folium.features.CircleMarker at 0x7f2a50f7b048>,\n",
       " <folium.features.CircleMarker at 0x7f2a50f8f278>,\n",
       " <folium.features.CircleMarker at 0x7f2a50f8f358>,\n",
       " <folium.features.CircleMarker at 0x7f2a51023630>,\n",
       " <folium.features.CircleMarker at 0x7f2a50fed908>,\n",
       " <folium.features.CircleMarker at 0x7f2a50fed390>,\n",
       " <folium.features.CircleMarker at 0x7f2a50f7b0f0>,\n",
       " <folium.features.CircleMarker at 0x7f2a50f7b940>,\n",
       " <folium.features.CircleMarker at 0x7f2a50fa5240>,\n",
       " <folium.features.CircleMarker at 0x7f2a50fa58d0>,\n",
       " <folium.features.CircleMarker at 0x7f2a50fa5c18>,\n",
       " <folium.features.CircleMarker at 0x7f2a50fa5e48>,\n",
       " <folium.features.CircleMarker at 0x7f2a50fa54e0>,\n",
       " <folium.features.CircleMarker at 0x7f2a50fa5438>,\n",
       " <folium.features.CircleMarker at 0x7f2a50fa5ba8>,\n",
       " <folium.features.CircleMarker at 0x7f2a50f7bb00>,\n",
       " <folium.features.CircleMarker at 0x7f2a50f7bb70>,\n",
       " <folium.features.CircleMarker at 0x7f2a50f7bc88>,\n",
       " <folium.features.CircleMarker at 0x7f2a50f7bac8>,\n",
       " <folium.features.CircleMarker at 0x7f2a50f7b828>,\n",
       " <folium.features.CircleMarker at 0x7f2a50f7be10>,\n",
       " <folium.features.CircleMarker at 0x7f2a50f7bef0>,\n",
       " <folium.features.CircleMarker at 0x7f2a50f3eef0>,\n",
       " <folium.features.CircleMarker at 0x7f2a50f3ef60>,\n",
       " <folium.features.CircleMarker at 0x7f2a50f3ee48>,\n",
       " <folium.features.CircleMarker at 0x7f2a50f3e908>,\n",
       " <folium.features.CircleMarker at 0x7f2a50f7b518>,\n",
       " <folium.features.CircleMarker at 0x7f2a50f7b550>,\n",
       " <folium.features.CircleMarker at 0x7f2a50f7b198>,\n",
       " <folium.features.CircleMarker at 0x7f2a50fa5d68>,\n",
       " <folium.features.CircleMarker at 0x7f2a50fa57b8>,\n",
       " <folium.features.CircleMarker at 0x7f2a50fa5cc0>,\n",
       " <folium.features.CircleMarker at 0x7f2a50fa5e80>,\n",
       " <folium.features.CircleMarker at 0x7f2a50fa5128>,\n",
       " <folium.features.CircleMarker at 0x7f2a50fa57f0>,\n",
       " <folium.features.CircleMarker at 0x7f2a50fa5160>,\n",
       " <folium.features.CircleMarker at 0x7f2a50f43e48>,\n",
       " <folium.features.CircleMarker at 0x7f2a50f43518>,\n",
       " <folium.features.CircleMarker at 0x7f2a50f43080>,\n",
       " <folium.features.CircleMarker at 0x7f2a50fa5320>,\n",
       " <folium.features.CircleMarker at 0x7f2a50fa52b0>,\n",
       " <folium.features.CircleMarker at 0x7f2a50fa59e8>,\n",
       " <folium.features.CircleMarker at 0x7f2a50f43828>,\n",
       " <folium.features.CircleMarker at 0x7f2a50f3e390>,\n",
       " <folium.features.CircleMarker at 0x7f2a50f43588>,\n",
       " <folium.features.CircleMarker at 0x7f2a50f434e0>,\n",
       " <folium.features.CircleMarker at 0x7f2a50f43dd8>,\n",
       " <folium.features.CircleMarker at 0x7f2a50f43710>,\n",
       " <folium.features.CircleMarker at 0x7f2a50f43f60>,\n",
       " <folium.features.CircleMarker at 0x7f2a50f3e4e0>,\n",
       " <folium.features.CircleMarker at 0x7f2a50f43b70>,\n",
       " <folium.features.CircleMarker at 0x7f2a50f43320>,\n",
       " <folium.features.CircleMarker at 0x7f2a50f43d68>,\n",
       " <folium.features.CircleMarker at 0x7f2a50f43cc0>,\n",
       " <folium.features.CircleMarker at 0x7f2a50f432e8>,\n",
       " <folium.features.CircleMarker at 0x7f2a50f43160>,\n",
       " <folium.features.CircleMarker at 0x7f2a50f43128>,\n",
       " <folium.features.CircleMarker at 0x7f2a50f66080>,\n",
       " <folium.features.CircleMarker at 0x7f2a50f66f60>,\n",
       " <folium.features.CircleMarker at 0x7f2a50f66710>,\n",
       " <folium.features.CircleMarker at 0x7f2a50f66048>,\n",
       " <folium.features.CircleMarker at 0x7f2a50f66b70>,\n",
       " <folium.features.CircleMarker at 0x7f2a50f66dd8>,\n",
       " <folium.features.CircleMarker at 0x7f2a50f66d30>,\n",
       " <folium.features.CircleMarker at 0x7f2a50fa5828>,\n",
       " <folium.features.CircleMarker at 0x7f2a50fed0f0>,\n",
       " <folium.features.CircleMarker at 0x7f2a50fd38d0>,\n",
       " <folium.features.CircleMarker at 0x7f2a50f3e6d8>,\n",
       " <folium.features.CircleMarker at 0x7f2a50f3ee10>,\n",
       " <folium.features.CircleMarker at 0x7f2a50f3e2e8>,\n",
       " <folium.features.CircleMarker at 0x7f2a50f3e828>,\n",
       " <folium.features.CircleMarker at 0x7f2a50f3e1d0>,\n",
       " <folium.features.CircleMarker at 0x7f2a50f3ef28>,\n",
       " <folium.features.CircleMarker at 0x7f2a50f3e080>,\n",
       " <folium.features.CircleMarker at 0x7f2a50f0a160>,\n",
       " <folium.features.CircleMarker at 0x7f2a50f66cf8>,\n",
       " <folium.features.CircleMarker at 0x7f2a50f66198>,\n",
       " <folium.features.CircleMarker at 0x7f2a50f668d0>,\n",
       " <folium.features.CircleMarker at 0x7f2a50f665f8>,\n",
       " <folium.features.CircleMarker at 0x7f2a50f3e400>,\n",
       " <folium.features.CircleMarker at 0x7f2a50f66780>,\n",
       " <folium.features.CircleMarker at 0x7f2a50f66ac8>,\n",
       " <folium.features.CircleMarker at 0x7f2a50f0a080>,\n",
       " <folium.features.CircleMarker at 0x7f2a50f0a748>,\n",
       " <folium.features.CircleMarker at 0x7f2a50f0af28>,\n",
       " <folium.features.CircleMarker at 0x7f2a50f0a4e0>,\n",
       " <folium.features.CircleMarker at 0x7f2a50f0a4a8>,\n",
       " <folium.features.CircleMarker at 0x7f2a50f8fb70>,\n",
       " <folium.features.CircleMarker at 0x7f2a50f43c88>,\n",
       " <folium.features.CircleMarker at 0x7f2a50fd65f8>,\n",
       " <folium.features.CircleMarker at 0x7f2a50f3e588>,\n",
       " <folium.features.CircleMarker at 0x7f2a50f43ba8>,\n",
       " <folium.features.CircleMarker at 0x7f2a50f3e5f8>,\n",
       " <folium.features.CircleMarker at 0x7f2a50f3e0f0>,\n",
       " <folium.features.CircleMarker at 0x7f2a50f0aef0>,\n",
       " <folium.features.CircleMarker at 0x7f2a50f0a2b0>,\n",
       " <folium.features.CircleMarker at 0x7f2a50f1a128>,\n",
       " <folium.features.CircleMarker at 0x7f2a50f1a8d0>,\n",
       " <folium.features.CircleMarker at 0x7f2a50f1aef0>,\n",
       " <folium.features.CircleMarker at 0x7f2a50fd6278>,\n",
       " <folium.features.CircleMarker at 0x7f2a50f667b8>,\n",
       " <folium.features.CircleMarker at 0x7f2a50f1ae48>,\n",
       " <folium.features.CircleMarker at 0x7f2a50f1a898>,\n",
       " <folium.features.CircleMarker at 0x7f2a50f1a4a8>,\n",
       " <folium.features.CircleMarker at 0x7f2a50f0a198>,\n",
       " <folium.features.CircleMarker at 0x7f2a50f0a588>,\n",
       " <folium.features.CircleMarker at 0x7f2a50f0a358>,\n",
       " <folium.features.CircleMarker at 0x7f2a50f0a0f0>,\n",
       " <folium.features.CircleMarker at 0x7f2a50f0aa90>,\n",
       " <folium.features.CircleMarker at 0x7f2a50f0a940>,\n",
       " <folium.features.CircleMarker at 0x7f2a50f0acf8>,\n",
       " <folium.features.CircleMarker at 0x7f2a50f1a160>,\n",
       " <folium.features.CircleMarker at 0x7f2a50f1ae80>,\n",
       " <folium.features.CircleMarker at 0x7f2a50f1a6d8>,\n",
       " <folium.features.CircleMarker at 0x7f2a50f1ac50>,\n",
       " <folium.features.CircleMarker at 0x7f2a50f1acc0>,\n",
       " <folium.features.CircleMarker at 0x7f2a50f1a9e8>,\n",
       " <folium.features.CircleMarker at 0x7f2a50f317b8>,\n",
       " <folium.features.CircleMarker at 0x7f2a50f312e8>,\n",
       " <folium.features.CircleMarker at 0x7f2a50f31b00>,\n",
       " <folium.features.CircleMarker at 0x7f2a50f31630>,\n",
       " <folium.features.CircleMarker at 0x7f2a50f310f0>,\n",
       " <folium.features.CircleMarker at 0x7f2a50f319e8>,\n",
       " <folium.features.CircleMarker at 0x7f2a50f1a400>,\n",
       " <folium.features.CircleMarker at 0x7f2a50f66ef0>,\n",
       " <folium.features.CircleMarker at 0x7f2a50f43a90>,\n",
       " <folium.features.CircleMarker at 0x7f2a50f0a0b8>,\n",
       " <folium.features.CircleMarker at 0x7f2a50f1a828>,\n",
       " <folium.features.CircleMarker at 0x7f2a50f1aa90>,\n",
       " <folium.features.CircleMarker at 0x7f2a50f1a7b8>,\n",
       " <folium.features.CircleMarker at 0x7f2a50f31860>,\n",
       " <folium.features.CircleMarker at 0x7f2a50f1fa20>,\n",
       " <folium.features.CircleMarker at 0x7f2a50f1f358>,\n",
       " <folium.features.CircleMarker at 0x7f2a50f1fef0>,\n",
       " <folium.features.CircleMarker at 0x7f2a50f1a240>,\n",
       " <folium.features.CircleMarker at 0x7f2a50f7b780>,\n",
       " <folium.features.CircleMarker at 0x7f2a50f1f978>,\n",
       " <folium.features.CircleMarker at 0x7f2a50f1f748>,\n",
       " <folium.features.CircleMarker at 0x7f2a50f1f588>,\n",
       " <folium.features.CircleMarker at 0x7f2a50f31ac8>,\n",
       " <folium.features.CircleMarker at 0x7f2a50f31f98>,\n",
       " <folium.features.CircleMarker at 0x7f2a50f31cc0>,\n",
       " <folium.features.CircleMarker at 0x7f2a50f317f0>,\n",
       " <folium.features.CircleMarker at 0x7f2a50f314a8>,\n",
       " <folium.features.CircleMarker at 0x7f2a50f31588>,\n",
       " <folium.features.CircleMarker at 0x7f2a50f31320>,\n",
       " <folium.features.CircleMarker at 0x7f2a50f31e10>,\n",
       " <folium.features.CircleMarker at 0x7f2a50f0a438>,\n",
       " <folium.features.CircleMarker at 0x7f2a50f31be0>,\n",
       " <folium.features.CircleMarker at 0x7f2a50f31ba8>,\n",
       " <folium.features.CircleMarker at 0x7f2a50f31390>,\n",
       " <folium.features.CircleMarker at 0x7f2a50f1f080>,\n",
       " <folium.features.CircleMarker at 0x7f2a50f1f5f8>,\n",
       " <folium.features.CircleMarker at 0x7f2a50ed7278>,\n",
       " <folium.features.CircleMarker at 0x7f2a50ed70b8>,\n",
       " <folium.features.CircleMarker at 0x7f2a50ed7a20>,\n",
       " <folium.features.CircleMarker at 0x7f2a50ed71d0>,\n",
       " <folium.features.CircleMarker at 0x7f2a50ed7dd8>,\n",
       " <folium.features.CircleMarker at 0x7f2a50ed7710>,\n",
       " <folium.features.CircleMarker at 0x7f2a50ed76d8>,\n",
       " <folium.features.CircleMarker at 0x7f2a50f1fe80>,\n",
       " <folium.features.CircleMarker at 0x7f2a50f1f470>,\n",
       " <folium.features.CircleMarker at 0x7f2a50f1fc50>,\n",
       " <folium.features.CircleMarker at 0x7f2a50f1f780>,\n",
       " <folium.features.CircleMarker at 0x7f2a50f1f208>,\n",
       " <folium.features.CircleMarker at 0x7f2a50f1f390>,\n",
       " <folium.features.CircleMarker at 0x7f2a50ecd5c0>,\n",
       " <folium.features.CircleMarker at 0x7f2a50ecd1d0>,\n",
       " <folium.features.CircleMarker at 0x7f2a50ecdef0>,\n",
       " <folium.features.CircleMarker at 0x7f2a50ecdba8>,\n",
       " <folium.features.CircleMarker at 0x7f2a50ecde80>,\n",
       " <folium.features.CircleMarker at 0x7f2a50ecd518>,\n",
       " <folium.features.CircleMarker at 0x7f2a50ecd550>,\n",
       " <folium.features.CircleMarker at 0x7f2a50ecd780>,\n",
       " <folium.features.CircleMarker at 0x7f2a50ed7e48>,\n",
       " <folium.features.CircleMarker at 0x7f2a50ed7198>,\n",
       " <folium.features.CircleMarker at 0x7f2a50ed79b0>,\n",
       " <folium.features.CircleMarker at 0x7f2a50ed70f0>,\n",
       " <folium.features.CircleMarker at 0x7f2a50ed7ac8>,\n",
       " <folium.features.CircleMarker at 0x7f2a50ed74a8>,\n",
       " <folium.features.CircleMarker at 0x7f2a50ed7a58>,\n",
       " <folium.features.CircleMarker at 0x7f2a50ed2e80>,\n",
       " <folium.features.CircleMarker at 0x7f2a50ed2b00>,\n",
       " <folium.features.CircleMarker at 0x7f2a50ed2e48>,\n",
       " <folium.features.CircleMarker at 0x7f2a50ed7b00>,\n",
       " <folium.features.CircleMarker at 0x7f2a50ed22e8>,\n",
       " <folium.features.CircleMarker at 0x7f2a50ed2ba8>,\n",
       " <folium.features.CircleMarker at 0x7f2a50ed2320>,\n",
       " <folium.features.CircleMarker at 0x7f2a50ecde48>,\n",
       " <folium.features.CircleMarker at 0x7f2a50ed2e10>,\n",
       " <folium.features.CircleMarker at 0x7f2a50ed24e0>,\n",
       " <folium.features.CircleMarker at 0x7f2a50ed2780>,\n",
       " <folium.features.CircleMarker at 0x7f2a50ed2c50>,\n",
       " <folium.features.CircleMarker at 0x7f2a50ed2f98>,\n",
       " <folium.features.CircleMarker at 0x7f2a50ed79e8>,\n",
       " <folium.features.CircleMarker at 0x7f2a50ed7a90>,\n",
       " <folium.features.CircleMarker at 0x7f2a50ed2160>,\n",
       " <folium.features.CircleMarker at 0x7f2a50ed28d0>,\n",
       " <folium.features.CircleMarker at 0x7f2a50ed2748>,\n",
       " <folium.features.CircleMarker at 0x7f2a50ed26d8>,\n",
       " <folium.features.CircleMarker at 0x7f2a50ed2a58>,\n",
       " <folium.features.CircleMarker at 0x7f2a50ed2470>,\n",
       " <folium.features.CircleMarker at 0x7f2a50e94f28>,\n",
       " <folium.features.CircleMarker at 0x7f2a50e94ef0>,\n",
       " <folium.features.CircleMarker at 0x7f2a50e94780>,\n",
       " <folium.features.CircleMarker at 0x7f2a50e945f8>,\n",
       " <folium.features.CircleMarker at 0x7f2a50e94518>,\n",
       " <folium.features.CircleMarker at 0x7f2a50e94668>,\n",
       " <folium.features.CircleMarker at 0x7f2a50e94208>,\n",
       " <folium.features.CircleMarker at 0x7f2a50e94a20>,\n",
       " <folium.features.CircleMarker at 0x7f2a50f1a2e8>,\n",
       " <folium.features.CircleMarker at 0x7f2a50f31358>,\n",
       " <folium.features.CircleMarker at 0x7f2a50e94400>,\n",
       " <folium.features.CircleMarker at 0x7f2a50e94dd8>,\n",
       " <folium.features.CircleMarker at 0x7f2a50e94550>,\n",
       " <folium.features.CircleMarker at 0x7f2a50e94cf8>,\n",
       " <folium.features.CircleMarker at 0x7f2a50e94588>,\n",
       " <folium.features.CircleMarker at 0x7f2a50e94be0>,\n",
       " <folium.features.CircleMarker at 0x7f2a50ea7c18>,\n",
       " <folium.features.CircleMarker at 0x7f2a50ea7c50>,\n",
       " <folium.features.CircleMarker at 0x7f2a50ea7ef0>,\n",
       " <folium.features.CircleMarker at 0x7f2a50f1fb38>,\n",
       " <folium.features.CircleMarker at 0x7f2a50ea77b8>,\n",
       " <folium.features.CircleMarker at 0x7f2a50ea7048>,\n",
       " <folium.features.CircleMarker at 0x7f2a50ecdc18>,\n",
       " <folium.features.CircleMarker at 0x7f2a50ea7128>,\n",
       " <folium.features.CircleMarker at 0x7f2a50ea7ba8>,\n",
       " <folium.features.CircleMarker at 0x7f2a50e94710>,\n",
       " <folium.features.CircleMarker at 0x7f2a50ecd748>,\n",
       " <folium.features.CircleMarker at 0x7f2a50ecdbe0>,\n",
       " <folium.features.CircleMarker at 0x7f2a50ecdf28>,\n",
       " <folium.features.CircleMarker at 0x7f2a50e949e8>,\n",
       " <folium.features.CircleMarker at 0x7f2a50e94c18>,\n",
       " <folium.features.CircleMarker at 0x7f2a50e947f0>,\n",
       " <folium.features.CircleMarker at 0x7f2a50ed2048>,\n",
       " <folium.features.CircleMarker at 0x7f2a50ecd080>,\n",
       " <folium.features.CircleMarker at 0x7f2a50ecd278>,\n",
       " <folium.features.CircleMarker at 0x7f2a50ecd860>,\n",
       " <folium.features.CircleMarker at 0x7f2a50ea7ac8>,\n",
       " <folium.features.CircleMarker at 0x7f2a50ea7550>,\n",
       " <folium.features.CircleMarker at 0x7f2a50e95da0>,\n",
       " <folium.features.CircleMarker at 0x7f2a50e957f0>,\n",
       " <folium.features.CircleMarker at 0x7f2a50e95dd8>,\n",
       " <folium.features.CircleMarker at 0x7f2a50ed7470>,\n",
       " <folium.features.CircleMarker at 0x7f2a50e950f0>,\n",
       " <folium.features.CircleMarker at 0x7f2a50e95a20>,\n",
       " <folium.features.CircleMarker at 0x7f2a50e95518>,\n",
       " <folium.features.CircleMarker at 0x7f2a50ea7198>,\n",
       " <folium.features.CircleMarker at 0x7f2a50ea7eb8>,\n",
       " <folium.features.CircleMarker at 0x7f2a50ea7320>,\n",
       " <folium.features.CircleMarker at 0x7f2a50ea72b0>,\n",
       " <folium.features.CircleMarker at 0x7f2a50ea7780>,\n",
       " <folium.features.CircleMarker at 0x7f2a50ea7978>,\n",
       " <folium.features.CircleMarker at 0x7f2a50ea7be0>,\n",
       " <folium.features.CircleMarker at 0x7f2a50e4bcf8>,\n",
       " <folium.features.CircleMarker at 0x7f2a50ea7b00>,\n",
       " <folium.features.CircleMarker at 0x7f2a50ecd208>,\n",
       " <folium.features.CircleMarker at 0x7f2a50ecd3c8>,\n",
       " <folium.features.CircleMarker at 0x7f2a50ea7940>,\n",
       " <folium.features.CircleMarker at 0x7f2a50ea7860>,\n",
       " <folium.features.CircleMarker at 0x7f2a50e955f8>,\n",
       " <folium.features.CircleMarker at 0x7f2a50e95898>,\n",
       " <folium.features.CircleMarker at 0x7f2a50e4b7b8>,\n",
       " <folium.features.CircleMarker at 0x7f2a50e4b9e8>,\n",
       " <folium.features.CircleMarker at 0x7f2a50e4b128>,\n",
       " <folium.features.CircleMarker at 0x7f2a50e4b400>,\n",
       " <folium.features.CircleMarker at 0x7f2a50e4b550>,\n",
       " <folium.features.CircleMarker at 0x7f2a50e4b940>,\n",
       " <folium.features.CircleMarker at 0x7f2a50e954e0>,\n",
       " <folium.features.CircleMarker at 0x7f2a50e4b9b0>,\n",
       " <folium.features.CircleMarker at 0x7f2a50e4b898>,\n",
       " <folium.features.CircleMarker at 0x7f2a50e4bb00>,\n",
       " <folium.features.CircleMarker at 0x7f2a50e4b908>,\n",
       " <folium.features.CircleMarker at 0x7f2a50e4b470>,\n",
       " <folium.features.CircleMarker at 0x7f2a50e4bef0>,\n",
       " <folium.features.CircleMarker at 0x7f2a50e39c88>,\n",
       " <folium.features.CircleMarker at 0x7f2a50e39b00>,\n",
       " <folium.features.CircleMarker at 0x7f2a50e39dd8>,\n",
       " <folium.features.CircleMarker at 0x7f2a50e39860>,\n",
       " <folium.features.CircleMarker at 0x7f2a50e392b0>,\n",
       " <folium.features.CircleMarker at 0x7f2a50f1f7b8>,\n",
       " <folium.features.CircleMarker at 0x7f2a50e95c50>,\n",
       " <folium.features.CircleMarker at 0x7f2a50e396a0>,\n",
       " <folium.features.CircleMarker at 0x7f2a50e4bf98>,\n",
       " <folium.features.CircleMarker at 0x7f2a50e4b630>,\n",
       " <folium.features.CircleMarker at 0x7f2a50e4bb38>,\n",
       " <folium.features.CircleMarker at 0x7f2a50e4b0b8>,\n",
       " <folium.features.CircleMarker at 0x7f2a50e39fd0>,\n",
       " <folium.features.CircleMarker at 0x7f2a50e39400>,\n",
       " <folium.features.CircleMarker at 0x7f2a50e61cf8>,\n",
       " <folium.features.CircleMarker at 0x7f2a50e61390>,\n",
       " <folium.features.CircleMarker at 0x7f2a50e61f28>,\n",
       " <folium.features.CircleMarker at 0x7f2a50e61588>,\n",
       " <folium.features.CircleMarker at 0x7f2a50e61978>,\n",
       " <folium.features.CircleMarker at 0x7f2a50e95f28>,\n",
       " <folium.features.CircleMarker at 0x7f2a50e95358>,\n",
       " <folium.features.CircleMarker at 0x7f2a50e95128>,\n",
       " <folium.features.CircleMarker at 0x7f2a50e394a8>,\n",
       " <folium.features.CircleMarker at 0x7f2a50e39438>,\n",
       " <folium.features.CircleMarker at 0x7f2a50e398d0>,\n",
       " <folium.features.CircleMarker at 0x7f2a50e397f0>,\n",
       " <folium.features.CircleMarker at 0x7f2a50e39748>,\n",
       " <folium.features.CircleMarker at 0x7f2a50e39be0>,\n",
       " <folium.features.CircleMarker at 0x7f2a50e395f8>,\n",
       " <folium.features.CircleMarker at 0x7f2a50e610b8>,\n",
       " <folium.features.CircleMarker at 0x7f2a50e61f60>,\n",
       " <folium.features.CircleMarker at 0x7f2a50e619e8>,\n",
       " <folium.features.CircleMarker at 0x7f2a50e61048>,\n",
       " <folium.features.CircleMarker at 0x7f2a50e612b0>,\n",
       " <folium.features.CircleMarker at 0x7f2a50e61748>,\n",
       " <folium.features.CircleMarker at 0x7f2a50e49e48>,\n",
       " <folium.features.CircleMarker at 0x7f2a50e49390>,\n",
       " <folium.features.CircleMarker at 0x7f2a50e49748>,\n",
       " <folium.features.CircleMarker at 0x7f2a50e49128>,\n",
       " <folium.features.CircleMarker at 0x7f2a50e49dd8>,\n",
       " <folium.features.CircleMarker at 0x7f2a50e498d0>,\n",
       " <folium.features.CircleMarker at 0x7f2a50e61438>,\n",
       " <folium.features.CircleMarker at 0x7f2a50e39a20>,\n",
       " <folium.features.CircleMarker at 0x7f2a50e95240>,\n",
       " <folium.features.CircleMarker at 0x7f2a50e95c18>,\n",
       " <folium.features.CircleMarker at 0x7f2a50e491d0>,\n",
       " <folium.features.CircleMarker at 0x7f2a50e49358>,\n",
       " <folium.features.CircleMarker at 0x7f2a50e492e8>,\n",
       " <folium.features.CircleMarker at 0x7f2a50e49860>,\n",
       " <folium.features.CircleMarker at 0x7f2a50e1ecf8>,\n",
       " <folium.features.CircleMarker at 0x7f2a50e1e240>,\n",
       " <folium.features.CircleMarker at 0x7f2a50e1ef28>,\n",
       " <folium.features.CircleMarker at 0x7f2a50e394e0>,\n",
       " <folium.features.CircleMarker at 0x7f2a50e1e9e8>,\n",
       " <folium.features.CircleMarker at 0x7f2a50e61550>,\n",
       " <folium.features.CircleMarker at 0x7f2a50e1eb70>,\n",
       " <folium.features.CircleMarker at 0x7f2a50e1e438>,\n",
       " <folium.features.CircleMarker at 0x7f2a50e49208>,\n",
       " <folium.features.CircleMarker at 0x7f2a50e614a8>,\n",
       " <folium.features.CircleMarker at 0x7f2a50e49ac8>,\n",
       " <folium.features.CircleMarker at 0x7f2a50e496a0>,\n",
       " <folium.features.CircleMarker at 0x7f2a50e49828>,\n",
       " <folium.features.CircleMarker at 0x7f2a50e49a90>,\n",
       " <folium.features.CircleMarker at 0x7f2a50e492b0>,\n",
       " <folium.features.CircleMarker at 0x7f2a50e49908>,\n",
       " <folium.features.CircleMarker at 0x7f2a50e61f98>,\n",
       " <folium.features.CircleMarker at 0x7f2a50e61ef0>,\n",
       " <folium.features.CircleMarker at 0x7f2a50e61e80>,\n",
       " <folium.features.CircleMarker at 0x7f2a50e61cc0>,\n",
       " <folium.features.CircleMarker at 0x7f2a50e1e9b0>,\n",
       " <folium.features.CircleMarker at 0x7f2a50e1ecc0>,\n",
       " <folium.features.CircleMarker at 0x7f2a50e322b0>,\n",
       " <folium.features.CircleMarker at 0x7f2a50e32160>,\n",
       " <folium.features.CircleMarker at 0x7f2a50e32a58>,\n",
       " <folium.features.CircleMarker at 0x7f2a50e32208>,\n",
       " <folium.features.CircleMarker at 0x7f2a50e32dd8>,\n",
       " <folium.features.CircleMarker at 0x7f2a50e32e80>,\n",
       " <folium.features.CircleMarker at 0x7f2a50e32b00>,\n",
       " <folium.features.CircleMarker at 0x7f2a50e323c8>,\n",
       " <folium.features.CircleMarker at 0x7f2a50e4bb70>,\n",
       " <folium.features.CircleMarker at 0x7f2a50e4b390>,\n",
       " <folium.features.CircleMarker at 0x7f2a50ea74a8>,\n",
       " <folium.features.CircleMarker at 0x7f2a50e1e208>,\n",
       " <folium.features.CircleMarker at 0x7f2a50e1e358>,\n",
       " <folium.features.CircleMarker at 0x7f2a50e1e748>,\n",
       " <folium.features.CircleMarker at 0x7f2a50e1ea20>,\n",
       " <folium.features.CircleMarker at 0x7f2a50e1e860>,\n",
       " <folium.features.CircleMarker at 0x7f2a50e1e828>,\n",
       " <folium.features.CircleMarker at 0x7f2a50e0ae80>,\n",
       " <folium.features.CircleMarker at 0x7f2a50e0a780>,\n",
       " <folium.features.CircleMarker at 0x7f2a50f1a1d0>,\n",
       " <folium.features.CircleMarker at 0x7f2a50f1abe0>,\n",
       " <folium.features.CircleMarker at 0x7f2a50e616d8>,\n",
       " <folium.features.CircleMarker at 0x7f2a50e39048>,\n",
       " <folium.features.CircleMarker at 0x7f2a50e49d68>,\n",
       " <folium.features.CircleMarker at 0x7f2a50e49c18>,\n",
       " <folium.features.CircleMarker at 0x7f2a50e0a7b8>,\n",
       " <folium.features.CircleMarker at 0x7f2a50e1eeb8>,\n",
       " <folium.features.CircleMarker at 0x7f2a50e0a400>,\n",
       " <folium.features.CircleMarker at 0x7f2a50fd3ef0>,\n",
       " <folium.features.CircleMarker at 0x7f2a70096da0>,\n",
       " <folium.features.CircleMarker at 0x7f2a70096e80>,\n",
       " <folium.features.CircleMarker at 0x7f2a51086860>,\n",
       " <folium.features.CircleMarker at 0x7f2a50e619b0>,\n",
       " <folium.features.CircleMarker at 0x7f2a50e61400>,\n",
       " <folium.features.CircleMarker at 0x7f2a50ea7390>,\n",
       " <folium.features.CircleMarker at 0x7f2a50e94fd0>,\n",
       " <folium.features.CircleMarker at 0x7f2a50e94898>,\n",
       " <folium.features.CircleMarker at 0x7f2a50e32ac8>,\n",
       " <folium.features.CircleMarker at 0x7f2a50e49198>,\n",
       " <folium.features.CircleMarker at 0x7f2a700a4278>,\n",
       " <folium.features.CircleMarker at 0x7f2a50e32b38>,\n",
       " <folium.features.CircleMarker at 0x7f2a50e32128>,\n",
       " <folium.features.CircleMarker at 0x7f2a50e32748>,\n",
       " <folium.features.CircleMarker at 0x7f2a50e324e0>,\n",
       " <folium.features.CircleMarker at 0x7f2a50e0a940>,\n",
       " <folium.features.CircleMarker at 0x7f2a2a7becf8>,\n",
       " <folium.features.CircleMarker at 0x7f2a50e0a6a0>,\n",
       " <folium.features.CircleMarker at 0x7f2a50e0a828>,\n",
       " <folium.features.CircleMarker at 0x7f2a50e0a160>,\n",
       " <folium.features.CircleMarker at 0x7f2a50e0ae48>,\n",
       " <folium.features.CircleMarker at 0x7f2a2a7be6d8>,\n",
       " <folium.features.CircleMarker at 0x7f2a2a7bef28>,\n",
       " <folium.features.CircleMarker at 0x7f2a2a7be5c0>,\n",
       " <folium.features.CircleMarker at 0x7f2a50e32cc0>,\n",
       " <folium.features.CircleMarker at 0x7f2a50e32a90>,\n",
       " <folium.features.CircleMarker at 0x7f2a2a7bebe0>,\n",
       " <folium.features.CircleMarker at 0x7f2a2a7be7b8>,\n",
       " <folium.features.CircleMarker at 0x7f2a2a7be828>,\n",
       " <folium.features.CircleMarker at 0x7f2a2a7be710>,\n",
       " <folium.features.CircleMarker at 0x7f2a2a7be400>,\n",
       " <folium.features.CircleMarker at 0x7f2a2a7beeb8>,\n",
       " <folium.features.CircleMarker at 0x7f2a50e1e2b0>,\n",
       " <folium.features.CircleMarker at 0x7f2a50e0ac88>,\n",
       " <folium.features.CircleMarker at 0x7f2a50e0a3c8>,\n",
       " <folium.features.CircleMarker at 0x7f2a2a7be940>,\n",
       " <folium.features.CircleMarker at 0x7f2a50dbe828>,\n",
       " <folium.features.CircleMarker at 0x7f2a50dbe438>,\n",
       " <folium.features.CircleMarker at 0x7f2a50dbee80>,\n",
       " <folium.features.CircleMarker at 0x7f2a2a7be978>,\n",
       " <folium.features.CircleMarker at 0x7f2a2a7be9b0>,\n",
       " <folium.features.CircleMarker at 0x7f2a2a7beef0>,\n",
       " <folium.features.CircleMarker at 0x7f2a50dbe6d8>,\n",
       " <folium.features.CircleMarker at 0x7f2a50dbe3c8>,\n",
       " <folium.features.CircleMarker at 0x7f2a50dbe5c0>,\n",
       " <folium.features.CircleMarker at 0x7f2a50dbecf8>,\n",
       " <folium.features.CircleMarker at 0x7f2a50dbe5f8>,\n",
       " <folium.features.CircleMarker at 0x7f2a50e0ac18>,\n",
       " <folium.features.CircleMarker at 0x7f2a2a7be160>,\n",
       " <folium.features.CircleMarker at 0x7f2a2a7be588>,\n",
       " <folium.features.CircleMarker at 0x7f2a2a7becc0>,\n",
       " <folium.features.CircleMarker at 0x7f2a50dbe0b8>,\n",
       " <folium.features.CircleMarker at 0x7f2a50dc1cc0>,\n",
       " <folium.features.CircleMarker at 0x7f2a50dc1710>,\n",
       " <folium.features.CircleMarker at 0x7f2a50dbef60>,\n",
       " <folium.features.CircleMarker at 0x7f2a50dbe550>,\n",
       " <folium.features.CircleMarker at 0x7f2a50dbe080>,\n",
       " <folium.features.CircleMarker at 0x7f2a50dbeba8>,\n",
       " <folium.features.CircleMarker at 0x7f2a50dc19b0>,\n",
       " <folium.features.CircleMarker at 0x7f2a50dc15f8>,\n",
       " <folium.features.CircleMarker at 0x7f2a50dc1cf8>,\n",
       " <folium.features.CircleMarker at 0x7f2a50dc1eb8>,\n",
       " <folium.features.CircleMarker at 0x7f2a50dc13c8>,\n",
       " <folium.features.CircleMarker at 0x7f2a50dbeb38>,\n",
       " <folium.features.CircleMarker at 0x7f2a50dbea90>,\n",
       " <folium.features.CircleMarker at 0x7f2a50dbe9b0>,\n",
       " <folium.features.CircleMarker at 0x7f2a50dbe780>,\n",
       " <folium.features.CircleMarker at 0x7f2a50dc18d0>,\n",
       " <folium.features.CircleMarker at 0x7f2a50dc1ac8>,\n",
       " <folium.features.CircleMarker at 0x7f2a50d8be80>,\n",
       " <folium.features.CircleMarker at 0x7f2a50d8b0b8>,\n",
       " <folium.features.CircleMarker at 0x7f2a50d8b780>,\n",
       " <folium.features.CircleMarker at 0x7f2a50d8bfd0>,\n",
       " <folium.features.CircleMarker at 0x7f2a50d8b2e8>,\n",
       " <folium.features.CircleMarker at 0x7f2a50d8bcf8>,\n",
       " <folium.features.CircleMarker at 0x7f2a50dc1b38>,\n",
       " <folium.features.CircleMarker at 0x7f2a50d8b8d0>,\n",
       " <folium.features.CircleMarker at 0x7f2a50d8bd68>,\n",
       " <folium.features.CircleMarker at 0x7f2a50d8b940>,\n",
       " <folium.features.CircleMarker at 0x7f2a50d8beb8>,\n",
       " <folium.features.CircleMarker at 0x7f2a50d8b9b0>,\n",
       " <folium.features.CircleMarker at 0x7f2a50d8b6d8>,\n",
       " <folium.features.CircleMarker at 0x7f2a50d9ccf8>,\n",
       " <folium.features.CircleMarker at 0x7f2a50d8bbe0>,\n",
       " <folium.features.CircleMarker at 0x7f2a2a7be2b0>,\n",
       " <folium.features.CircleMarker at 0x7f2a50e0a5c0>,\n",
       " <folium.features.CircleMarker at 0x7f2a50dbec88>,\n",
       " <folium.features.CircleMarker at 0x7f2a50dbe9e8>,\n",
       " <folium.features.CircleMarker at 0x7f2a50dc1b00>,\n",
       " <folium.features.CircleMarker at 0x7f2a50d8bd30>,\n",
       " <folium.features.CircleMarker at 0x7f2a50d9cf28>,\n",
       " <folium.features.CircleMarker at 0x7f2a50d9c208>,\n",
       " <folium.features.CircleMarker at 0x7f2a50d9c978>,\n",
       " <folium.features.CircleMarker at 0x7f2a50d9c518>,\n",
       " <folium.features.CircleMarker at 0x7f2a50d9c9b0>,\n",
       " <folium.features.CircleMarker at 0x7f2a50d9c2e8>,\n",
       " <folium.features.CircleMarker at 0x7f2a50dc1a90>,\n",
       " <folium.features.CircleMarker at 0x7f2a50d9c860>,\n",
       " <folium.features.CircleMarker at 0x7f2a50d9c400>,\n",
       " <folium.features.CircleMarker at 0x7f2a50d9c2b0>,\n",
       " <folium.features.CircleMarker at 0x7f2a50d9c048>,\n",
       " <folium.features.CircleMarker at 0x7f2a50d9c4a8>,\n",
       " <folium.features.CircleMarker at 0x7f2a50d9ceb8>,\n",
       " <folium.features.CircleMarker at 0x7f2a50da0d30>,\n",
       " <folium.features.CircleMarker at 0x7f2a50da06d8>,\n",
       " <folium.features.CircleMarker at 0x7f2a50da0c18>,\n",
       " <folium.features.CircleMarker at 0x7f2a50da0eb8>,\n",
       " <folium.features.CircleMarker at 0x7f2a50dc10b8>,\n",
       " <folium.features.CircleMarker at 0x7f2a50dc1320>,\n",
       " <folium.features.CircleMarker at 0x7f2a50da0128>,\n",
       " <folium.features.CircleMarker at 0x7f2a50d9c5f8>,\n",
       " <folium.features.CircleMarker at 0x7f2a50dc1b70>,\n",
       " <folium.features.CircleMarker at 0x7f2a50d9c0f0>,\n",
       " <folium.features.CircleMarker at 0x7f2a50dc1978>,\n",
       " <folium.features.CircleMarker at 0x7f2a50d9c240>,\n",
       " <folium.features.CircleMarker at 0x7f2a50d8b048>,\n",
       " <folium.features.CircleMarker at 0x7f2a50da0f28>,\n",
       " <folium.features.CircleMarker at 0x7f2a50dc1ba8>,\n",
       " <folium.features.CircleMarker at 0x7f2a50da0358>,\n",
       " <folium.features.CircleMarker at 0x7f2a50da0fd0>,\n",
       " <folium.features.CircleMarker at 0x7f2a50da0ef0>,\n",
       " <folium.features.CircleMarker at 0x7f2a50da0f98>,\n",
       " <folium.features.CircleMarker at 0x7f2a50da06a0>,\n",
       " <folium.features.CircleMarker at 0x7f2a50d87ef0>,\n",
       " <folium.features.CircleMarker at 0x7f2a50d87f60>,\n",
       " <folium.features.CircleMarker at 0x7f2a50d87e48>,\n",
       " <folium.features.CircleMarker at 0x7f2a50d875c0>,\n",
       " <folium.features.CircleMarker at 0x7f2a50d87518>,\n",
       " <folium.features.CircleMarker at 0x7f2a50da0748>,\n",
       " <folium.features.CircleMarker at 0x7f2a50d878d0>,\n",
       " <folium.features.CircleMarker at 0x7f2a50d87400>,\n",
       " <folium.features.CircleMarker at 0x7f2a50d87710>,\n",
       " <folium.features.CircleMarker at 0x7f2a50d87208>,\n",
       " <folium.features.CircleMarker at 0x7f2a50d87ba8>,\n",
       " <folium.features.CircleMarker at 0x7f2a50d874a8>,\n",
       " <folium.features.CircleMarker at 0x7f2a50d87828>,\n",
       " <folium.features.CircleMarker at 0x7f2a50d8b898>,\n",
       " <folium.features.CircleMarker at 0x7f2a50da0470>,\n",
       " <folium.features.CircleMarker at 0x7f2a50da0cf8>,\n",
       " <folium.features.CircleMarker at 0x7f2a50da0160>,\n",
       " <folium.features.CircleMarker at 0x7f2a50da04a8>,\n",
       " <folium.features.CircleMarker at 0x7f2a50da03c8>,\n",
       " <folium.features.CircleMarker at 0x7f2a50d39710>,\n",
       " <folium.features.CircleMarker at 0x7f2a50d39d68>,\n",
       " <folium.features.CircleMarker at 0x7f2a50d39198>,\n",
       " <folium.features.CircleMarker at 0x7f2a50d39fd0>,\n",
       " <folium.features.CircleMarker at 0x7f2a50d39128>,\n",
       " <folium.features.CircleMarker at 0x7f2a50da04e0>,\n",
       " <folium.features.CircleMarker at 0x7f2a50d9cb00>,\n",
       " <folium.features.CircleMarker at 0x7f2a50d8bba8>,\n",
       " <folium.features.CircleMarker at 0x7f2a50d87860>,\n",
       " <folium.features.CircleMarker at 0x7f2a50d87b00>,\n",
       " <folium.features.CircleMarker at 0x7f2a50d87eb8>,\n",
       " <folium.features.CircleMarker at 0x7f2a50d87e10>,\n",
       " <folium.features.CircleMarker at 0x7f2a50d39160>,\n",
       " <folium.features.CircleMarker at 0x7f2a50d87358>,\n",
       " <folium.features.CircleMarker at 0x7f2a50d56f28>,\n",
       " <folium.features.CircleMarker at 0x7f2a50d876d8>,\n",
       " <folium.features.CircleMarker at 0x7f2a50d87a20>,\n",
       " <folium.features.CircleMarker at 0x7f2a50d399e8>,\n",
       " <folium.features.CircleMarker at 0x7f2a50d39a58>,\n",
       " <folium.features.CircleMarker at 0x7f2a50d39080>,\n",
       " <folium.features.CircleMarker at 0x7f2a50d39cf8>,\n",
       " <folium.features.CircleMarker at 0x7f2a50d56cf8>,\n",
       " <folium.features.CircleMarker at 0x7f2a50d567f0>,\n",
       " <folium.features.CircleMarker at 0x7f2a50d56278>,\n",
       " <folium.features.CircleMarker at 0x7f2a50d56240>,\n",
       " <folium.features.CircleMarker at 0x7f2a50d56e80>,\n",
       " <folium.features.CircleMarker at 0x7f2a50d39048>,\n",
       " <folium.features.CircleMarker at 0x7f2a50d39be0>,\n",
       " <folium.features.CircleMarker at 0x7f2a50d39f28>,\n",
       " <folium.features.CircleMarker at 0x7f2a50d394e0>,\n",
       " <folium.features.CircleMarker at 0x7f2a50d390b8>,\n",
       " <folium.features.CircleMarker at 0x7f2a50d563c8>,\n",
       " <folium.features.CircleMarker at 0x7f2a50d56ef0>,\n",
       " <folium.features.CircleMarker at 0x7f2a50d64d68>,\n",
       " <folium.features.CircleMarker at 0x7f2a50d64828>,\n",
       " <folium.features.CircleMarker at 0x7f2a50d645c0>,\n",
       " <folium.features.CircleMarker at 0x7f2a50d64fd0>,\n",
       " <folium.features.CircleMarker at 0x7f2a50d39b38>,\n",
       " <folium.features.CircleMarker at 0x7f2a50d39f98>,\n",
       " <folium.features.CircleMarker at 0x7f2a50d64780>,\n",
       " <folium.features.CircleMarker at 0x7f2a50d56630>,\n",
       " <folium.features.CircleMarker at 0x7f2a50d568d0>,\n",
       " <folium.features.CircleMarker at 0x7f2a50d56160>]"
      ]
     },
     "execution_count": 28,
     "metadata": {},
     "output_type": "execute_result"
    }
   ],
   "source": [
    "map_with_markers"
   ]
  },
  {
   "cell_type": "markdown",
   "metadata": {},
   "source": [
    "### Using Nearest Neighbors"
   ]
  },
  {
   "cell_type": "markdown",
   "metadata": {},
   "source": [
    "Ok, let's write a function that given a latitude and longitude will predict the distance for us.  We'll do this by first finding the nearest trips given a latitude and longitude. "
   ]
  },
  {
   "cell_type": "markdown",
   "metadata": {},
   "source": [
    "Here we once again apply the nearest neighbors formula. As a first step, write a function named `distance_location` that calculates the distance in pickup location between two trips."
   ]
  },
  {
   "cell_type": "code",
   "execution_count": 29,
   "metadata": {},
   "outputs": [],
   "source": [
    "import math\n",
    "\n",
    "def distance_location(selected_trip, neighbor_trip):\n",
    "    return math.sqrt((neighbor_trip['pickup_latitude'] - selected_trip['pickup_latitude'])**2 + (neighbor_trip['pickup_longitude'] - selected_trip['pickup_longitude'])**2)"
   ]
  },
  {
   "cell_type": "code",
   "execution_count": 30,
   "metadata": {},
   "outputs": [
    {
     "data": {
      "text/plain": [
       "0.235"
      ]
     },
     "execution_count": 30,
     "metadata": {},
     "output_type": "execute_result"
    }
   ],
   "source": [
    "first_trip = {'pickup_latitude': 40.64499, 'pickup_longitude': -73.78115, 'trip_distance': 18.38}\n",
    "second_trip = {'pickup_latitude': 40.766931, 'pickup_longitude': -73.982098, 'trip_distance': 1.3}\n",
    "distance_first_and_second = distance_location(first_trip, second_trip)\n",
    "\n",
    "distance_first_and_second and round(distance_first_and_second, 3) # 0.235"
   ]
  },
  {
   "cell_type": "markdown",
   "metadata": {},
   "source": [
    "Ok, next write a function called `distance_between_neighbors` that adds a new key-value pair, called `distance_from_selected`, that calculates the distance of the `neighbor_trip` from the `selected_trip`."
   ]
  },
  {
   "cell_type": "code",
   "execution_count": 33,
   "metadata": {},
   "outputs": [],
   "source": [
    "def distance_between_neighbors(selected_trip, neighbor_trip):\n",
    "    neighbor_trip['distance_from_selected'] =  distance_location(selected_trip, neighbor_trip)\n",
    "    return neighbor_trip"
   ]
  },
  {
   "cell_type": "code",
   "execution_count": 34,
   "metadata": {},
   "outputs": [
    {
     "data": {
      "text/plain": [
       "{'pickup_latitude': 40.766931,\n",
       " 'pickup_longitude': -73.982098,\n",
       " 'trip_distance': 1.3,\n",
       " 'distance_from_selected': 0.23505256047318146}"
      ]
     },
     "execution_count": 34,
     "metadata": {},
     "output_type": "execute_result"
    }
   ],
   "source": [
    "distance_between_neighbors(first_trip, second_trip)\n",
    "\n",
    "# {'distance_from_selected': 0.23505256047318146,\n",
    "#  'pickup_latitude': 40.766931,\n",
    "#  'pickup_longitude': -73.982098,\n",
    "#  'trip_distance': 1.3}"
   ]
  },
  {
   "cell_type": "markdown",
   "metadata": {},
   "source": [
    "Ok, now our `neighbor_trip` has another attribute called `distance_from_selected`, that indicates the distance from the `neighbor_trip`'s pickup location from the `selected_trip`."
   ]
  },
  {
   "cell_type": "markdown",
   "metadata": {},
   "source": [
    "> ** Understand the data:** Our dictionary now has a few attributes, two of which say distance.  Let's make sure we understand the difference. \n",
    "> * **`distance_from_selected`:** This is our calculation of the distance of the neighbor's pickup location from the selected trip.\n",
    "> * **`trip_distance`:** This is the attribute we were provided initially.  It tells us the length of the neighbor's taxi trip from pickup to drop-off.  "
   ]
  },
  {
   "cell_type": "markdown",
   "metadata": {},
   "source": [
    "Next, write a function called `distance_all` that provided a list of neighbors, returns each of those neighbors with their respective `distance_from_selected` numbers."
   ]
  },
  {
   "cell_type": "code",
   "execution_count": 53,
   "metadata": {},
   "outputs": [],
   "source": [
    "def distance_all(selected_individual, neighbors):\n",
    "    neighbors_with_distances = list(map(lambda neighbor: distance_between_neighbors(selected_individual, neighbor), neighbors))\n",
    "    return list(filter(lambda neighbor: neighbor['distance_from_selected'] != 0, neighbors_with_distances))"
   ]
  },
  {
   "cell_type": "code",
   "execution_count": 54,
   "metadata": {},
   "outputs": [
    {
     "data": {
      "text/plain": [
       "[{'pickup_latitude': 40.766931,\n",
       "  'pickup_longitude': -73.982098,\n",
       "  'trip_distance': 1.3,\n",
       "  'distance_from_selected': 0.23505256047318146},\n",
       " {'pickup_latitude': 40.77773,\n",
       "  'pickup_longitude': -73.951902,\n",
       "  'trip_distance': 4.5,\n",
       "  'distance_from_selected': 0.2162779533470808},\n",
       " {'pickup_latitude': 40.795678,\n",
       "  'pickup_longitude': -73.971049,\n",
       "  'trip_distance': 2.4,\n",
       "  'distance_from_selected': 0.24242215976473674}]"
      ]
     },
     "execution_count": 54,
     "metadata": {},
     "output_type": "execute_result"
    }
   ],
   "source": [
    "cleaned_trips and distance_all(first_trip, cleaned_trips[0:4])"
   ]
  },
  {
   "cell_type": "markdown",
   "metadata": {},
   "source": [
    "Now write the nearest neighbors formula to calculate the distance of the `selected_trip` from all of the `cleaned_trips` in our dataset.  If no number is provided, it should return the top 3 neighbors."
   ]
  },
  {
   "cell_type": "code",
   "execution_count": 55,
   "metadata": {},
   "outputs": [],
   "source": [
    "def nearest_neighbors(selected_trip, trips, number = 3):\n",
    "    trips_with_distance = distance_all(selected_trip, trips)\n",
    "    sorted_trips_with_distance = sorted(trips_with_distance, key = lambda trip: trip['distance_from_selected'])\n",
    "    return sorted_trips_with_distance[0:number]"
   ]
  },
  {
   "cell_type": "code",
   "execution_count": 60,
   "metadata": {},
   "outputs": [
    {
     "data": {
      "text/plain": [
       "[{'pickup_latitude': 40.64483,\n",
       "  'pickup_longitude': -73.781578,\n",
       "  'trip_distance': 7.78,\n",
       "  'distance_from_selected': 0.0004569288784918792},\n",
       " {'pickup_latitude': 40.644657,\n",
       "  'pickup_longitude': -73.782229,\n",
       "  'trip_distance': 12.7,\n",
       "  'distance_from_selected': 0.0011292165425673159},\n",
       " {'pickup_latitude': 40.648509,\n",
       "  'pickup_longitude': -73.783508,\n",
       "  'trip_distance': 17.3,\n",
       "  'distance_from_selected': 0.0042359798158141185}]"
      ]
     },
     "execution_count": 60,
     "metadata": {},
     "output_type": "execute_result"
    }
   ],
   "source": [
    "new_trip = {'pickup_latitude': 40.64499,\n",
    "'pickup_longitude': -73.78115,\n",
    "'trip_distance': 18.38}\n",
    "\n",
    "nearest_three_neighbors = nearest_neighbors(new_trip, cleaned_trips or [], number = 3)\n",
    "nearest_three_neighbors\n",
    "# [{'distance_from_selected': 0.0004569288784918792,\n",
    "#   'pickup_latitude': 40.64483,\n",
    "#   'pickup_longitude': -73.781578,\n",
    "#   'trip_distance': 7.78},\n",
    "#  {'distance_from_selected': 0.0011292165425673159,\n",
    "#   'pickup_latitude': 40.644657,\n",
    "#   'pickup_longitude': -73.782229,\n",
    "#   'trip_distance': 12.7},\n",
    "#  {'distance_from_selected': 0.0042359798158141185,\n",
    "#   'pickup_latitude': 40.648509,\n",
    "#   'pickup_longitude': -73.783508,\n",
    "#   'trip_distance': 17.3}]"
   ]
  },
  {
   "cell_type": "markdown",
   "metadata": {},
   "source": [
    "Ok great! Now that we can provide a new trip location, and find the distances of the three nearest trips, we can take  calculate an estimate of the trip distance for that new trip location.  \n",
    "\n",
    "We do so simply by calculating the average of it's nearest neighbors."
   ]
  },
  {
   "cell_type": "code",
   "execution_count": 61,
   "metadata": {},
   "outputs": [
    {
     "data": {
      "text/plain": [
       "12.593"
      ]
     },
     "execution_count": 61,
     "metadata": {},
     "output_type": "execute_result"
    }
   ],
   "source": [
    "import statistics\n",
    "def mean_distance(neighbors):\n",
    "    nearest_distances = list(map(lambda neighbor: neighbor['trip_distance'], neighbors))\n",
    "    return round(statistics.mean(nearest_distances), 3)\n",
    "\n",
    "nearest_three_neighbors = nearest_neighbors(new_trip, cleaned_trips or [], number = 3)\n",
    "distance_estimate_of_selected_trip = mean_distance(nearest_three_neighbors) # 12.593\n",
    "distance_estimate_of_selected_trip"
   ]
  },
  {
   "cell_type": "markdown",
   "metadata": {},
   "source": [
    "### Choosing the correct number of neighbors"
   ]
  },
  {
   "cell_type": "markdown",
   "metadata": {},
   "source": [
    "Now, as we know from the last lesson, one tricky element is to determine how many neighbors to choose, our $k$ value,  before calculating the average.  We want to choose our value of $k$ such that it properly matches actual data, and so that it applies to new data.  There are fancy formulas to ensure that we **train** our algorithm so that our formula is optimized for all data, but here let's see different $k$ values manually.  This is the gist of choosing our $k$ value:\n",
    "\n",
    "* If we choose a $k$ value too low, our formula will be too heavily influenced by a single neighbor, whereas if our $k$ value is too high, we will be choosing so many neighbors that our nearest neighbors formula will not be adjust enough according to locations.\n",
    "\n",
    "Ok, let's experiment with this."
   ]
  },
  {
   "cell_type": "markdown",
   "metadata": {},
   "source": [
    "First, let's choose a midtown location, to see what the trip distance would be.  A Google search reveals the coordinates of 51st and 7th avenue to be the following."
   ]
  },
  {
   "cell_type": "code",
   "execution_count": 62,
   "metadata": {},
   "outputs": [],
   "source": [
    "midtown_trip = dict(pickup_latitude=40.761710, pickup_longitude=-73.982760)"
   ]
  },
  {
   "cell_type": "code",
   "execution_count": 63,
   "metadata": {},
   "outputs": [
    {
     "data": {
      "text/plain": [
       "[{'pickup_latitude': 40.761372,\n",
       "  'pickup_longitude': -73.982602,\n",
       "  'trip_distance': 0.58,\n",
       "  'distance_from_selected': 0.00037310588309379025},\n",
       " {'pickup_latitude': 40.762444,\n",
       "  'pickup_longitude': -73.98244,\n",
       "  'trip_distance': 0.8,\n",
       "  'distance_from_selected': 0.00080072217404248},\n",
       " {'pickup_latitude': 40.762767,\n",
       "  'pickup_longitude': -73.982293,\n",
       "  'trip_distance': 1.4,\n",
       "  'distance_from_selected': 0.0011555682584735844},\n",
       " {'pickup_latitude': 40.762868,\n",
       "  'pickup_longitude': -73.983233,\n",
       "  'trip_distance': 8.3,\n",
       "  'distance_from_selected': 0.0012508768924205918},\n",
       " {'pickup_latitude': 40.760057,\n",
       "  'pickup_longitude': -73.983502,\n",
       "  'trip_distance': 1.26,\n",
       "  'distance_from_selected': 0.0018118976240381972},\n",
       " {'pickup_latitude': 40.760644,\n",
       "  'pickup_longitude': -73.984531,\n",
       "  'trip_distance': 0.0,\n",
       "  'distance_from_selected': 0.002067074502774709},\n",
       " {'pickup_latitude': 40.762107,\n",
       "  'pickup_longitude': -73.98479,\n",
       "  'trip_distance': 1.72,\n",
       "  'distance_from_selected': 0.0020684557041472677}]"
      ]
     },
     "execution_count": 63,
     "metadata": {},
     "output_type": "execute_result"
    }
   ],
   "source": [
    "seven_closest = nearest_neighbors(midtown_trip, cleaned_trips, number = 7)\n",
    "seven_closest\n",
    "# [{'trip_distance': 0.58,\n",
    "#   'pickup_latitude': 40.761372,\n",
    "#   'pickup_longitude': -73.982602,\n",
    "#   'distance_from_selected': 0.00037310588309379025},\n",
    "#  {'trip_distance': 0.8,\n",
    "#   'pickup_latitude': 40.762444,\n",
    "#   'pickup_longitude': -73.98244,\n",
    "#   'distance_from_selected': 0.00080072217404248},\n",
    "#  {'trip_distance': 1.4,\n",
    "#   'pickup_latitude': 40.762767,\n",
    "#   'pickup_longitude': -73.982293,\n",
    "#   'distance_from_selected': 0.0011555682584735844},\n",
    "#  {'trip_distance': 8.3,\n",
    "#   'pickup_latitude': 40.762868,\n",
    "#   'pickup_longitude': -73.983233,\n",
    "#   'distance_from_selected': 0.0012508768924205918},\n",
    "#  {'trip_distance': 1.26,\n",
    "#   'pickup_latitude': 40.760057,\n",
    "#   'pickup_longitude': -73.983502,\n",
    "#   'distance_from_selected': 0.0018118976240381972},\n",
    "#  {'trip_distance': 0.0,\n",
    "#   'pickup_latitude': 40.760644,\n",
    "#   'pickup_longitude': -73.984531,\n",
    "#   'distance_from_selected': 0.002067074502774709},\n",
    "#  {'trip_distance': 1.72,\n",
    "#   'pickup_latitude': 40.762107,\n",
    "#   'pickup_longitude': -73.98479,\n",
    "#   'distance_from_selected': 0.0020684557041472677}]"
   ]
  },
  {
   "cell_type": "markdown",
   "metadata": {},
   "source": [
    "Looking at the `distance_from_selected` it appears that our our trips are still fairly close to our selected trip.  Notice that most of the data is within a distance of .002 away, so going to the top 7 nearest neighbors didn't seem to give us neighbors too far from each other, which is a good sign.\n",
    "\n",
    "Still, it's hard to know what distance in latitude and longitude really look like, so let's map the data. "
   ]
  },
  {
   "cell_type": "code",
   "execution_count": 64,
   "metadata": {},
   "outputs": [
    {
     "data": {
      "text/plain": [
       "[<folium.features.CircleMarker at 0x7f2a50c69908>,\n",
       " <folium.features.CircleMarker at 0x7f2a50c69fd0>,\n",
       " <folium.features.CircleMarker at 0x7f2a50c58550>,\n",
       " <folium.features.CircleMarker at 0x7f2a50c698d0>,\n",
       " <folium.features.CircleMarker at 0x7f2a50c69a90>,\n",
       " <folium.features.CircleMarker at 0x7f2a50c69588>,\n",
       " <folium.features.CircleMarker at 0x7f2a50c69ac8>]"
      ]
     },
     "execution_count": 64,
     "metadata": {},
     "output_type": "execute_result"
    }
   ],
   "source": [
    "midtown_location = location(midtown_trip) # [40.76171, -73.98276]\n",
    "midtown_map = map_from(midtown_location, 16)\n",
    "closest_markers = markers_from_trips(seven_closest)\n",
    "\n",
    "add_markers(closest_markers, midtown_map)"
   ]
  },
  {
   "cell_type": "markdown",
   "metadata": {},
   "source": [
    "Ok.  These locations stay fairly close to our estimated location of 51st street and 7th Avenue.  So they could be a good estimate of a trip distance."
   ]
  },
  {
   "cell_type": "code",
   "execution_count": 65,
   "metadata": {},
   "outputs": [
    {
     "data": {
      "text/plain": [
       "2.009"
      ]
     },
     "execution_count": 65,
     "metadata": {},
     "output_type": "execute_result"
    }
   ],
   "source": [
    "mean_distance(seven_closest) # 2.009"
   ]
  },
  {
   "cell_type": "markdown",
   "metadata": {},
   "source": [
    "Ok, now let's try a different location"
   ]
  },
  {
   "cell_type": "code",
   "execution_count": 66,
   "metadata": {},
   "outputs": [],
   "source": [
    "charging_bull_closest = nearest_neighbors({'pickup_latitude': 40.7049, 'pickup_longitude': -74.0137}, cleaned_trips, number = 12)"
   ]
  },
  {
   "cell_type": "code",
   "execution_count": 67,
   "metadata": {
    "scrolled": true
   },
   "outputs": [
    {
     "data": {
      "text/plain": [
       "3.145"
      ]
     },
     "execution_count": 67,
     "metadata": {},
     "output_type": "execute_result"
    }
   ],
   "source": [
    "mean_distance(charging_bull_closest) # 3.145"
   ]
  },
  {
   "cell_type": "markdown",
   "metadata": {},
   "source": [
    "Ok, so there appears to be a significant difference between choosing a location near Times Square versus choosing a location at Wall Street."
   ]
  },
  {
   "cell_type": "markdown",
   "metadata": {},
   "source": [
    "### Summary"
   ]
  },
  {
   "cell_type": "markdown",
   "metadata": {},
   "source": [
    "In this lab, we used the nearest neighbors function to predict the length of a taxi ride.  To do so, we selected a location, then found a number of taxi rides closest to that location, and finally took the average trip lengths of the nearest taxi rides to find an estimate of the new ride's trip length.  You can see that even with just a little bit of math and programming we can begin to make meaningful predictions with data."
   ]
  }
 ],
 "metadata": {
  "kernelspec": {
   "display_name": "Python 3",
   "language": "python",
   "name": "python3"
  },
  "language_info": {
   "codemirror_mode": {
    "name": "ipython",
    "version": 3
   },
   "file_extension": ".py",
   "mimetype": "text/x-python",
   "name": "python",
   "nbconvert_exporter": "python",
   "pygments_lexer": "ipython3",
   "version": "3.6.4"
  }
 },
 "nbformat": 4,
 "nbformat_minor": 2
}
